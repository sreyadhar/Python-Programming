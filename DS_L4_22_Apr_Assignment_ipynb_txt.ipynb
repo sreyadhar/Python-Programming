{
  "nbformat": 4,
  "nbformat_minor": 0,
  "metadata": {
    "colab": {
      "name": "DS_L4_22_Apr_Assignment.ipynb.txt",
      "provenance": [],
      "collapsed_sections": []
    },
    "kernelspec": {
      "name": "python3",
      "display_name": "Python 3"
    }
  },
  "cells": [
    {
      "cell_type": "markdown",
      "metadata": {
        "id": "NVMUAJt8gzbA",
        "colab_type": "text"
      },
      "source": [
        "# MLE and Hypothesis Testing"
      ]
    },
    {
      "cell_type": "markdown",
      "metadata": {
        "id": "d1-kEc8hXx3N",
        "colab_type": "text"
      },
      "source": [
        "### Read the given csv file [```q4.csv```](https://raw.githubusercontent.com/Ipsit1234/SHALA/master/q4.csv) of samples. Assume that it is drawn from a exponential distribution. What is the difference of log likelihoods for $\\lambda = 1$ and $\\lambda = 2$ ? Which of the two is more strongly supported?"
      ]
    },
    {
      "cell_type": "code",
      "metadata": {
        "id": "DHfUkvD3KcNN",
        "colab_type": "code",
        "colab": {}
      },
      "source": [
        "import numpy as np\n",
        "import pandas as pd\n",
        "from scipy import stats\n",
        "from matplotlib import pyplot as plt\n",
        "import seaborn as sns\n",
        "import random\n",
        "from numpy.random import normal\n",
        "from scipy.stats import norm\n",
        "from matplotlib import pyplot"
      ],
      "execution_count": 0,
      "outputs": []
    },
    {
      "cell_type": "code",
      "metadata": {
        "id": "UAphR126LEwa",
        "colab_type": "code",
        "outputId": "7d6ceb94-7ceb-460e-fdee-85276b4bf40f",
        "colab": {
          "base_uri": "https://localhost:8080/",
          "height": 204
        }
      },
      "source": [
        "col_Names=[\"Sequence\", \"Coverage\"]\n",
        "url = 'https://raw.githubusercontent.com/Ipsit1234/SHALA/master/q4.csv'\n",
        "data = pd.read_csv(url,names=col_Names)\n",
        "data.head(5)"
      ],
      "execution_count": 9,
      "outputs": [
        {
          "output_type": "execute_result",
          "data": {
            "text/html": [
              "<div>\n",
              "<style scoped>\n",
              "    .dataframe tbody tr th:only-of-type {\n",
              "        vertical-align: middle;\n",
              "    }\n",
              "\n",
              "    .dataframe tbody tr th {\n",
              "        vertical-align: top;\n",
              "    }\n",
              "\n",
              "    .dataframe thead th {\n",
              "        text-align: right;\n",
              "    }\n",
              "</style>\n",
              "<table border=\"1\" class=\"dataframe\">\n",
              "  <thead>\n",
              "    <tr style=\"text-align: right;\">\n",
              "      <th></th>\n",
              "      <th>Sequence</th>\n",
              "      <th>Coverage</th>\n",
              "    </tr>\n",
              "  </thead>\n",
              "  <tbody>\n",
              "    <tr>\n",
              "      <th>0</th>\n",
              "      <td>0</td>\n",
              "      <td>0.019404</td>\n",
              "    </tr>\n",
              "    <tr>\n",
              "      <th>1</th>\n",
              "      <td>1</td>\n",
              "      <td>0.043634</td>\n",
              "    </tr>\n",
              "    <tr>\n",
              "      <th>2</th>\n",
              "      <td>2</td>\n",
              "      <td>0.023797</td>\n",
              "    </tr>\n",
              "    <tr>\n",
              "      <th>3</th>\n",
              "      <td>3</td>\n",
              "      <td>0.444340</td>\n",
              "    </tr>\n",
              "    <tr>\n",
              "      <th>4</th>\n",
              "      <td>4</td>\n",
              "      <td>0.578160</td>\n",
              "    </tr>\n",
              "  </tbody>\n",
              "</table>\n",
              "</div>"
            ],
            "text/plain": [
              "   Sequence  Coverage\n",
              "0         0  0.019404\n",
              "1         1  0.043634\n",
              "2         2  0.023797\n",
              "3         3  0.444340\n",
              "4         4  0.578160"
            ]
          },
          "metadata": {
            "tags": []
          },
          "execution_count": 9
        }
      ]
    },
    {
      "cell_type": "markdown",
      "metadata": {
        "id": "nDpo9jpidQHk",
        "colab_type": "text"
      },
      "source": [
        "# PDF of exponential distribution is $\\lambda e^{-\\lambda x}$\n",
        "Define a function to find pdf. You can use any module to get pre-defined functions also. And then find the likelihood and log-likelihood"
      ]
    },
    {
      "cell_type": "code",
      "metadata": {
        "id": "vdFipQwCaE9Y",
        "colab_type": "code",
        "colab": {
          "base_uri": "https://localhost:8080/",
          "height": 34
        },
        "outputId": "47f7eaae-0fcc-465b-99c3-7a7367239f64"
      },
      "source": [
        "def pdf_exp(lam,x):\n",
        "  return lam*np.exp(-lam*x)\n",
        "\n",
        "likelihood1=1\n",
        "likelihood2=1\n",
        "\n",
        "for a in data['Coverage'].values[:]:\n",
        "  likelihood1 = likelihood1 * pdf_exp(lam=2,x=a)\n",
        "  likelihood2 = likelihood2 * pdf_exp(lam=1,x=a)\n",
        "log_likelihood1=np.log(likelihood1)\n",
        "log_likelihood2=np.log(likelihood2)\n",
        "print('log_likelihood1-log_likelihood2:', log_likelihood1-log_likelihood2)"
      ],
      "execution_count": 26,
      "outputs": [
        {
          "output_type": "stream",
          "text": [
            "log_likelihood1-log_likelihood2: 20.366416970604874\n"
          ],
          "name": "stdout"
        }
      ]
    },
    {
      "cell_type": "code",
      "metadata": {
        "id": "p0IVzZ_IPyLG",
        "colab_type": "code",
        "outputId": "f9c07eec-1518-4bdd-fe73-6e4d3441a737",
        "colab": {
          "base_uri": "https://localhost:8080/",
          "height": 298
        }
      },
      "source": [
        "from scipy.stats import expon\n",
        "# data_expon_1 = expon.rvs(scale=1,loc=0,size=1000)\n",
        "ax = sns.distplot(data['Coverage'].values,\n",
        "                  kde=True,\n",
        "                  bins=30,\n",
        "                  color='grey',\n",
        "                  hist_kws={\"linewidth\": 15,'alpha':1})\n",
        "ax.set(xlabel='Exponential Distribution', ylabel='Frequency')"
      ],
      "execution_count": 31,
      "outputs": [
        {
          "output_type": "execute_result",
          "data": {
            "text/plain": [
              "[Text(0, 0.5, 'Frequency'), Text(0.5, 0, 'Exponential Distribution')]"
            ]
          },
          "metadata": {
            "tags": []
          },
          "execution_count": 31
        },
        {
          "output_type": "display_data",
          "data": {
            "image/png": "[encoded data removed]",
            "text/plain": [
              "<Figure size 432x288 with 1 Axes>"
            ]
          },
          "metadata": {
            "tags": [],
            "needs_background": "light"
          }
        }
      ]
    },
    {
      "cell_type": "code",
      "metadata": {
        "id": "MtOaxPgg1Hym",
        "colab_type": "code",
        "colab": {}
      },
      "source": [
        "import numpy as np\n",
        "from numpy import exp\n",
        "import matplotlib.pyplot as plt\n",
        "%matplotlib inline\n",
        "from scipy.special import factorial\n",
        "import pandas as pd\n",
        "from mpl_toolkits.mplot3d import Axes3D\n",
        "import statsmodels.api as sm\n",
        "from statsmodels.api import Poisson\n",
        "from scipy import stats\n",
        "from scipy.stats import norm\n",
        "from statsmodels.iolib.summary2 import summary_col"
      ],
      "execution_count": 0,
      "outputs": []
    },
    {
      "cell_type": "code",
      "metadata": {
        "id": "Hio8uXrtLjl7",
        "colab_type": "code",
        "outputId": "b73fec62-bc96-4a74-9bc4-69fc96c75e72",
        "colab": {
          "base_uri": "https://localhost:8080/",
          "height": 299
        }
      },
      "source": [
        "# generate a sample\n",
        "import math\n",
        "import scipy.optimize as optimize\n",
        "\n",
        "random.seed(101)\n",
        "size=4000;\n",
        "sample = normal(loc=40, scale=6, size=4000)\n",
        "# calculate parameters\n",
        "sample_mean = sample.mean()\n",
        "sample_std = sample.std()\n",
        "print('Mean=%.3f, Standard Deviation=%.3f' % (sample_mean, sample_std))\n",
        "# define the distribution\n",
        "dist = norm(sample_mean, sample_std)\n",
        "# sample probabilities for a range of outcomes\n",
        "values = [value for value in range(10, 70)]\n",
        "probabilities = [dist.pdf(value) for value in values]\n",
        "# plot the histogram and pdf\n",
        "pyplot.hist(sample, bins=15, density=True)\n",
        "pyplot.plot(values, probabilities)\n",
        "pyplot.show()\n",
        "\n",
        "l1= size*math.log(2*math.pi*(sample_std**2))/2 + np.sum(((sample-sample_mean)**2)/(2 * (sample_std**2)))\n",
        "ll = size*math.log(2*math.pi*(sample_std**2))/2 + np.sum(((sample-sample_mean)**2)/(2 * (sample_std**2)))\n",
        "print('log likelihood:', ll)"
      ],
      "execution_count": 0,
      "outputs": [
        {
          "output_type": "stream",
          "text": [
            "Mean=40.097, Standard Deviation=6.029\n"
          ],
          "name": "stdout"
        },
        {
          "output_type": "display_data",
          "data": {
            "image/png": "[encoded data removed]",
            "text/plain": [
              "<Figure size 432x288 with 1 Axes>"
            ]
          },
          "metadata": {
            "tags": [],
            "needs_background": "light"
          }
        },
        {
          "output_type": "stream",
          "text": [
            "log likelihood: 12862.206950784697\n"
          ],
          "name": "stdout"
        }
      ]
    },
    {
      "cell_type": "markdown",
      "metadata": {
        "id": "q214ixOGeR35",
        "colab_type": "text"
      },
      "source": [
        "### Read the csv files [```q4_1.csv```](https://raw.githubusercontent.com/Ipsit1234/SHALA/master/q4_1.csv) and [```q4_2.csv```](https://raw.githubusercontent.com/Ipsit1234/SHALA/master/q4_2.csv) to get samples from two unknown distributions. Choose a significance level and implement the the most general two-sample t-test"
      ]
    },
    {
      "cell_type": "code",
      "metadata": {
        "id": "bAsMqWiGdb52",
        "colab_type": "code",
        "colab": {}
      },
      "source": [
        "col_Names=[\"Sequence\", \"Coverage\"]\n",
        "sample1 = pd.read_csv('https://raw.githubusercontent.com/Ipsit1234/SHALA/master/q4_1.csv',names=col_Names)\n",
        "sample2 = pd.read_csv('https://raw.githubusercontent.com/Ipsit1234/SHALA/master/q4_2.csv',names=col_Names)"
      ],
      "execution_count": 0,
      "outputs": []
    },
    {
      "cell_type": "code",
      "metadata": {
        "id": "rb29JEqw-Tth",
        "colab_type": "code",
        "colab": {}
      },
      "source": [
        "# Student's t-test for independent samples\n",
        "from math import sqrt\n",
        "from numpy.random import seed\n",
        "from numpy.random import randn\n",
        "from numpy import mean\n",
        "from scipy.stats import sem\n",
        "from scipy.stats import t\n",
        "from numpy.random import seed\n",
        "from numpy.random import randn\n",
        "from scipy.stats import ttest_ind"
      ],
      "execution_count": 0,
      "outputs": []
    },
    {
      "cell_type": "markdown",
      "metadata": {
        "id": "yIvOH3yWiTU9",
        "colab_type": "text"
      },
      "source": [
        "Find the parameters required to compute the T statistic"
      ]
    },
    {
      "cell_type": "code",
      "metadata": {
        "id": "_3TBrHZifG2u",
        "colab_type": "code",
        "outputId": "992f7985-e6bf-4f72-a7c7-0aa8425b9e81",
        "colab": {
          "base_uri": "https://localhost:8080/",
          "height": 68
        }
      },
      "source": [
        "# function for calculating the t-test for two independent samples\n",
        "def independent_ttest(data1, data2, alpha):\n",
        "\t# calculate means\n",
        "\tmean1, mean2 = mean(data1), mean(data2)\n",
        "\t# calculate standard errors\n",
        "\tse1, se2 = sem(data1), sem(data2)\n",
        "\t# standard error on the difference between the samples\n",
        "\tsed = sqrt(se1**2.0 + se2**2.0)\n",
        "\t# calculate the t statistic\n",
        "\tt_stat = (mean1 - mean2) / sed\n",
        "\t# degrees of freedom\n",
        "\tdf = len(data1) + len(data2) - 2\n",
        "\t# calculate the critical value\n",
        "\tcv = t.ppf(1.0 - alpha, df)\n",
        "\t# calculate the p-value\n",
        "\tp = (1.0 - t.cdf(abs(t_stat), df)) * 2.0\n",
        "\t# return everything\n",
        "\treturn t_stat, df, cv, p\n",
        "\n",
        "# seed the random number generator\n",
        "seed(101)\n",
        "# generate two independent samples from the csv files\n",
        "data1 = sample1['Coverage'].values[:]\n",
        "data2 = sample2['Coverage'].values[:]\n",
        "# calculate the t test\n",
        "alpha = 0.05\n",
        "t_stat, df, cv, p = independent_ttest(data1, data2, alpha)\n",
        "print('t=%.3f, df=%d, cv=%.3f, p=%.3f' % (t_stat, df, cv, p))\n",
        "# interpret via critical value\n",
        "if abs(t_stat) <= cv:\n",
        "\tprint('Accept null hypothesis that the means are equal.')\n",
        "else:\n",
        "\tprint('Reject the null hypothesis that the means are equal = YES')\n",
        "# interpret via p-value\n",
        "if p > alpha:\n",
        "\tprint('Accept null hypothesis that the means are equal.')\n",
        "else:\n",
        "\tprint('Reject the null hypothesis that the means are equal = YES')"
      ],
      "execution_count": 35,
      "outputs": [
        {
          "output_type": "stream",
          "text": [
            "t=-16.821, df=148, cv=1.655, p=0.000\n",
            "Reject the null hypothesis that the means are equal = YES\n",
            "Reject the null hypothesis that the means are equal = YES\n"
          ],
          "name": "stdout"
        }
      ]
    },
    {
      "cell_type": "markdown",
      "metadata": {
        "id": "SrOP9BwSiwVc",
        "colab_type": "text"
      },
      "source": [
        "Plot the distribution of both the samples to visualize"
      ]
    },
    {
      "cell_type": "code",
      "metadata": {
        "id": "omfVDZqxfyAM",
        "colab_type": "code",
        "outputId": "2f9df978-20af-4415-b53f-a29f33beb932",
        "colab": {
          "base_uri": "https://localhost:8080/",
          "height": 265
        }
      },
      "source": [
        "sns.distplot(sample1[1].values)\n",
        "sns.distplot(sample2[1].values)\n",
        "plt.legend(['first sample','second sample'])\n",
        "plt.show()"
      ],
      "execution_count": 0,
      "outputs": [
        {
          "output_type": "display_data",
          "data": {
            "image/png": "[encoded data removed]",
            "text/plain": [
              "<Figure size 432x288 with 1 Axes>"
            ]
          },
          "metadata": {
            "tags": [],
            "needs_background": "light"
          }
        }
      ]
    }
  ]
}
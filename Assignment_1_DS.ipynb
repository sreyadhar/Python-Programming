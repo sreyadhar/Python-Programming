{
  "nbformat": 4,
  "nbformat_minor": 0,
  "metadata": {
    "colab": {
      "name": "Copy of Assignment -1 - DS.ipynb",
      "provenance": [],
      "collapsed_sections": [],
      "toc_visible": true
    },
    "kernelspec": {
      "name": "python3",
      "display_name": "Python 3"
    }
  },
  "cells": [
    {
      "cell_type": "markdown",
      "metadata": {
        "id": "hmr2U-GChnlR",
        "colab_type": "text"
      },
      "source": [
        "\n",
        "# **Assignment - 1 : Getting Started**\n",
        "\n",
        "---\n",
        "\n",
        "This assignment will get you familiarized with python libraries required for ***data science*** and ***machine learning***. You will have to complete the code snippets and run them. "
      ]
    },
    {
      "cell_type": "markdown",
      "metadata": {
        "id": "211pD45xEO0u",
        "colab_type": "text"
      },
      "source": [
        "## **Note :**   Use only the methods and attributes of the ```numpy``` library. **Do not** hard-code them. Avoid loops as much as possible."
      ]
    },
    {
      "cell_type": "code",
      "metadata": {
        "id": "e_B03izqYAWf",
        "colab_type": "code",
        "colab": {}
      },
      "source": [
        "import pandas as pd\n",
        "import numpy as np\n",
        "import seaborn as sns\n",
        "import scipy.stats as stats\n",
        "from matplotlib import pyplot as plt\n",
        "from math import pi"
      ],
      "execution_count": 0,
      "outputs": []
    },
    {
      "cell_type": "markdown",
      "metadata": {
        "id": "O7v9C4mun3SQ",
        "colab_type": "text"
      },
      "source": [
        "---\n",
        "## Part - 1\n",
        " In this part, you will work with the library ```numpy```. \n",
        "\n",
        "\n"
      ]
    },
    {
      "cell_type": "markdown",
      "metadata": {
        "id": "846yDaXQwiMD",
        "colab_type": "text"
      },
      "source": [
        "Import ```numpy``` with an alias name ```np```. Initialize two arrays $a$, $b$ of size $3 \\times 5$ with random values and print them. "
      ]
    },
    {
      "cell_type": "code",
      "metadata": {
        "id": "_MyeCO3_o3oq",
        "colab_type": "code",
        "outputId": "8388a2ea-1156-4260-ba13-bc71f318dd2c",
        "colab": {
          "base_uri": "https://localhost:8080/",
          "height": 119
        }
      },
      "source": [
        "import numpy as np\n",
        "a=np.random.random_sample((3, 5))\n",
        "print(\"a = {}\".format(a))\n",
        "b=np.random.random_sample((3, 5))\n",
        "print(\"b = {}\".format(b))\n"
      ],
      "execution_count": 0,
      "outputs": [
        {
          "output_type": "stream",
          "text": [
            "a = [[0.57019677 0.43860151 0.98837384 0.10204481 0.20887676]\n",
            " [0.16130952 0.65310833 0.2532916  0.46631077 0.24442559]\n",
            " [0.15896958 0.11037514 0.65632959 0.13818295 0.19658236]]\n",
            "b = [[0.36872517 0.82099323 0.09710128 0.83794491 0.09609841]\n",
            " [0.97645947 0.4686512  0.97676109 0.60484552 0.73926358]\n",
            " [0.03918779 0.28280696 0.12019656 0.2961402  0.11872772]]\n"
          ],
          "name": "stdout"
        }
      ]
    },
    {
      "cell_type": "markdown",
      "metadata": {
        "id": "p7jtpYT4wiO6",
        "colab_type": "text"
      },
      "source": [
        "Initialize and print two arrays $c$ and $d$ having the following properties:\n",
        "*   $c$ is a row vector with all non-negative integer values less than 100\n",
        "* $d$ is a square matrix of size 3 having all entries as 0.0"
      ]
    },
    {
      "cell_type": "code",
      "metadata": {
        "id": "Pl5tQpAFIa93",
        "colab_type": "code",
        "outputId": "d0ec1569-f323-4908-df75-f9c669720c10",
        "colab": {
          "base_uri": "https://localhost:8080/",
          "height": 170
        }
      },
      "source": [
        "c= np.arange(100)\n",
        "print(\"c = {}\".format(c))\n",
        "print(\"-\"*20)\n",
        "d = np.zeros((3,3))\n",
        "print('d = {}'.format(d))\n"
      ],
      "execution_count": 0,
      "outputs": [
        {
          "output_type": "stream",
          "text": [
            "c = [ 0  1  2  3  4  5  6  7  8  9 10 11 12 13 14 15 16 17 18 19 20 21 22 23\n",
            " 24 25 26 27 28 29 30 31 32 33 34 35 36 37 38 39 40 41 42 43 44 45 46 47\n",
            " 48 49 50 51 52 53 54 55 56 57 58 59 60 61 62 63 64 65 66 67 68 69 70 71\n",
            " 72 73 74 75 76 77 78 79 80 81 82 83 84 85 86 87 88 89 90 91 92 93 94 95\n",
            " 96 97 98 99]\n",
            "--------------------\n",
            "d = [[0. 0. 0.]\n",
            " [0. 0. 0.]\n",
            " [0. 0. 0.]]\n"
          ],
          "name": "stdout"
        }
      ]
    },
    {
      "cell_type": "markdown",
      "metadata": {
        "id": "qqgtSsa88Zmh",
        "colab_type": "text"
      },
      "source": [
        "We have $e$ as following : ```e = [[1,2,3],[4,5,6],[7,8,9]]```. Change $e$ as a numpy array and print it."
      ]
    },
    {
      "cell_type": "code",
      "metadata": {
        "id": "Krhm4bVE7RET",
        "colab_type": "code",
        "outputId": "aa2b0206-4244-464a-9f66-6a4d8d00b165",
        "colab": {
          "base_uri": "https://localhost:8080/",
          "height": 68
        }
      },
      "source": [
        "e = [[1,2,3],[4,5,6],[7,8,9]]\n",
        "np.asarray(e)"
      ],
      "execution_count": 0,
      "outputs": [
        {
          "output_type": "execute_result",
          "data": {
            "text/plain": [
              "array([[1, 2, 3],\n",
              "       [4, 5, 6],\n",
              "       [7, 8, 9]])"
            ]
          },
          "metadata": {
            "tags": []
          },
          "execution_count": 70
        }
      ]
    },
    {
      "cell_type": "markdown",
      "metadata": {
        "id": "1qTikI0foam9",
        "colab_type": "text"
      },
      "source": [
        "$f$ and $g$ are two square matrices of size 5 such that all the entries of $f$ are 1 and $g$ is an identity matrix. Initialize them and print them"
      ]
    },
    {
      "cell_type": "code",
      "metadata": {
        "id": "DvaLckI49aBV",
        "colab_type": "code",
        "outputId": "737507cf-4299-4b0a-eccb-77aae424c05b",
        "colab": {
          "base_uri": "https://localhost:8080/",
          "height": 187
        }
      },
      "source": [
        "f=np.ones((5,5), dtype=np.int16 )\n",
        "print('f = {}'.format(f))\n",
        "g=np.eye(5,5)\n",
        "print('g = {}'.format(g))"
      ],
      "execution_count": 0,
      "outputs": [
        {
          "output_type": "stream",
          "text": [
            "f = [[1 1 1 1 1]\n",
            " [1 1 1 1 1]\n",
            " [1 1 1 1 1]\n",
            " [1 1 1 1 1]\n",
            " [1 1 1 1 1]]\n",
            "g = [[1. 0. 0. 0. 0.]\n",
            " [0. 1. 0. 0. 0.]\n",
            " [0. 0. 1. 0. 0.]\n",
            " [0. 0. 0. 1. 0.]\n",
            " [0. 0. 0. 0. 1.]]\n"
          ],
          "name": "stdout"
        }
      ]
    },
    {
      "cell_type": "markdown",
      "metadata": {
        "id": "gcBZAZibAKcg",
        "colab_type": "text"
      },
      "source": [
        "Reshape $c$ into a $10 \\times 10$ matrix and name it $h$. Now flatten $h$, call it $c^\\prime$ and print **YES** when the shapes of $c$ and $c^\\prime$ are same. Otherwise print **NO**."
      ]
    },
    {
      "cell_type": "code",
      "metadata": {
        "id": "I71vtO9bA9Pi",
        "colab_type": "code",
        "outputId": "2e16349f-cb62-42c8-b3dd-225fdeec8fa4",
        "colab": {
          "base_uri": "https://localhost:8080/",
          "height": 289
        }
      },
      "source": [
        "h=c.reshape(10,10)\n",
        "print(\"h = {}\".format(h))\n",
        "c_bar = h.flatten()\n",
        "print(\"c_bar = {}\".format(c_bar))\n",
        "c_bar.shape\n",
        "print(c_bar.shape==c.shape)"
      ],
      "execution_count": 0,
      "outputs": [
        {
          "output_type": "stream",
          "text": [
            "h = [[ 0  1  2  3  4  5  6  7  8  9]\n",
            " [10 11 12 13 14 15 16 17 18 19]\n",
            " [20 21 22 23 24 25 26 27 28 29]\n",
            " [30 31 32 33 34 35 36 37 38 39]\n",
            " [40 41 42 43 44 45 46 47 48 49]\n",
            " [50 51 52 53 54 55 56 57 58 59]\n",
            " [60 61 62 63 64 65 66 67 68 69]\n",
            " [70 71 72 73 74 75 76 77 78 79]\n",
            " [80 81 82 83 84 85 86 87 88 89]\n",
            " [90 91 92 93 94 95 96 97 98 99]]\n",
            "c_bar = [ 0  1  2  3  4  5  6  7  8  9 10 11 12 13 14 15 16 17 18 19 20 21 22 23\n",
            " 24 25 26 27 28 29 30 31 32 33 34 35 36 37 38 39 40 41 42 43 44 45 46 47\n",
            " 48 49 50 51 52 53 54 55 56 57 58 59 60 61 62 63 64 65 66 67 68 69 70 71\n",
            " 72 73 74 75 76 77 78 79 80 81 82 83 84 85 86 87 88 89 90 91 92 93 94 95\n",
            " 96 97 98 99]\n",
            "True\n"
          ],
          "name": "stdout"
        }
      ]
    },
    {
      "cell_type": "markdown",
      "metadata": {
        "id": "8FrecDPiA-Bv",
        "colab_type": "text"
      },
      "source": [
        "Let $A$ denote a randomly initialized three dimensional matrix of shape (2,10,5). Transpose $A$, call it $A^\\prime$, such that its shape is (5,2,10) and print it."
      ]
    },
    {
      "cell_type": "code",
      "metadata": {
        "id": "VbOKqSm6Bkaq",
        "colab_type": "code",
        "outputId": "0871d4da-5aed-4a07-8a8c-57ccfebd3f4b",
        "colab": {
          "base_uri": "https://localhost:8080/",
          "height": 799
        }
      },
      "source": [
        "A = np.random.rand(2,10,5)\n",
        "print(A)\n",
        "A_bar = np.transpose(A,(2,0,1))\n",
        "print(A_bar)\n",
        "print(A_bar.shape)"
      ],
      "execution_count": 0,
      "outputs": [
        {
          "output_type": "stream",
          "text": [
            "[[[0.31798318 0.41426299 0.0641475  0.69247212 0.56660145]\n",
            "  [0.26538949 0.52324805 0.09394051 0.5759465  0.9292962 ]\n",
            "  [0.31856895 0.66741038 0.13179786 0.7163272  0.28940609]\n",
            "  [0.18319136 0.58651293 0.02010755 0.82894003 0.00469548]\n",
            "  [0.67781654 0.27000797 0.73519402 0.96218855 0.24875314]\n",
            "  [0.57615733 0.59204193 0.57225191 0.22308163 0.95274901]\n",
            "  [0.44712538 0.84640867 0.69947928 0.29743695 0.81379782]\n",
            "  [0.39650574 0.8811032  0.58127287 0.88173536 0.69253159]\n",
            "  [0.72525428 0.50132438 0.95608363 0.6439902  0.42385505]\n",
            "  [0.60639321 0.0191932  0.30157482 0.66017354 0.29007761]]\n",
            "\n",
            " [[0.61801543 0.4287687  0.13547406 0.29828233 0.56996491]\n",
            "  [0.59087276 0.57432525 0.65320082 0.65210327 0.43141844]\n",
            "  [0.8965466  0.36756187 0.43586493 0.89192336 0.80619399]\n",
            "  [0.70388858 0.10022689 0.91948261 0.7142413  0.99884701]\n",
            "  [0.1494483  0.86812606 0.16249293 0.61555956 0.12381998]\n",
            "  [0.84800823 0.80731896 0.56910074 0.4071833  0.069167  ]\n",
            "  [0.69742877 0.45354268 0.7220556  0.86638233 0.97552151]\n",
            "  [0.85580334 0.01171408 0.35997806 0.72999056 0.17162968]\n",
            "  [0.52103661 0.05433799 0.19999652 0.01852179 0.7936977 ]\n",
            "  [0.22392469 0.34535168 0.92808129 0.7044144  0.03183893]]]\n",
            "[[[0.31798318 0.26538949 0.31856895 0.18319136 0.67781654 0.57615733\n",
            "   0.44712538 0.39650574 0.72525428 0.60639321]\n",
            "  [0.61801543 0.59087276 0.8965466  0.70388858 0.1494483  0.84800823\n",
            "   0.69742877 0.85580334 0.52103661 0.22392469]]\n",
            "\n",
            " [[0.41426299 0.52324805 0.66741038 0.58651293 0.27000797 0.59204193\n",
            "   0.84640867 0.8811032  0.50132438 0.0191932 ]\n",
            "  [0.4287687  0.57432525 0.36756187 0.10022689 0.86812606 0.80731896\n",
            "   0.45354268 0.01171408 0.05433799 0.34535168]]\n",
            "\n",
            " [[0.0641475  0.09394051 0.13179786 0.02010755 0.73519402 0.57225191\n",
            "   0.69947928 0.58127287 0.95608363 0.30157482]\n",
            "  [0.13547406 0.65320082 0.43586493 0.91948261 0.16249293 0.56910074\n",
            "   0.7220556  0.35997806 0.19999652 0.92808129]]\n",
            "\n",
            " [[0.69247212 0.5759465  0.7163272  0.82894003 0.96218855 0.22308163\n",
            "   0.29743695 0.88173536 0.6439902  0.66017354]\n",
            "  [0.29828233 0.65210327 0.89192336 0.7142413  0.61555956 0.4071833\n",
            "   0.86638233 0.72999056 0.01852179 0.7044144 ]]\n",
            "\n",
            " [[0.56660145 0.9292962  0.28940609 0.00469548 0.24875314 0.95274901\n",
            "   0.81379782 0.69253159 0.42385505 0.29007761]\n",
            "  [0.56996491 0.43141844 0.80619399 0.99884701 0.12381998 0.069167\n",
            "   0.97552151 0.17162968 0.7936977  0.03183893]]]\n",
            "(5, 2, 10)\n"
          ],
          "name": "stdout"
        }
      ]
    },
    {
      "cell_type": "markdown",
      "metadata": {
        "id": "xR2zd-nkCani",
        "colab_type": "text"
      },
      "source": [
        "You have a matrix $X$ of size (10,5) filled with random values. Print the following :\n",
        "* Minimum value and index where it occured, for each column\n",
        "* Maximum value and the index where it occured, for each column\n",
        "* Minimum value and index where it occured, for each row\n",
        "* Maximum value and index where it occured, for each row\n",
        "* Minimum value and index where it occured, for the entire matrix\n",
        "* Maximum value and index where it occured, for the entire matrix"
      ]
    },
    {
      "cell_type": "code",
      "metadata": {
        "id": "FR2Wd4fWD_Og",
        "colab_type": "code",
        "outputId": "b351ef30-68c3-4fe7-8da4-85b45f42a91d",
        "colab": {
          "base_uri": "https://localhost:8080/",
          "height": 51
        }
      },
      "source": [
        "np.random.seed(0)\n",
        "X = np.random.rand(10,5)\n",
        "X\n",
        "\n",
        "# Minimum and Maximum values of each row, column and entire matrix X\n",
        "X.max(0)\n",
        "X.min(0)\n",
        "X.max(1)\n",
        "X.min(1)"
      ],
      "execution_count": 0,
      "outputs": [
        {
          "output_type": "execute_result",
          "data": {
            "text/plain": [
              "array([0.4236548 , 0.38344152, 0.07103606, 0.0202184 , 0.11827443,\n",
              "       0.14335329, 0.0187898 , 0.61209572, 0.06022547, 0.1289263 ])"
            ]
          },
          "metadata": {
            "tags": []
          },
          "execution_count": 74
        }
      ]
    },
    {
      "cell_type": "markdown",
      "metadata": {
        "id": "YpjW2ypkEGtS",
        "colab_type": "text"
      },
      "source": [
        "Find and print the following for the matrix X: \n",
        "* Mean of each row and column\n",
        "* Standard deviation of each row and column\n",
        "* Mean of the entire matrix\n",
        "* Standard deviation of entire matrix"
      ]
    },
    {
      "cell_type": "code",
      "metadata": {
        "id": "gMdm2pw0GWjf",
        "colab_type": "code",
        "outputId": "a0066aff-26f1-4723-9b93-3da59cf6fb85",
        "cellView": "code",
        "colab": {
          "base_uri": "https://localhost:8080/",
          "height": 119
        }
      },
      "source": [
        "#@title Default title text\n",
        "# Mean and Standard deviation of each row and column \n",
        "a=X.mean(axis=1)\n",
        "b=X.mean(axis=0)\n",
        "c=X.std(axis=1)\n",
        "d=X.std(axis=0)\n",
        "a, b, c,d\n"
      ],
      "execution_count": 0,
      "outputs": [
        {
          "output_type": "execute_result",
          "data": {
            "text/plain": [
              "(array([0.56706085, 0.66447172, 0.57705944, 0.51762729, 0.62761197,\n",
              "        0.5328907 , 0.41643268, 0.69444672, 0.44423265, 0.33781717]),\n",
              " array([0.56044382, 0.46781457, 0.62009909, 0.64025127, 0.40121685]),\n",
              " array([0.09445299, 0.23322986, 0.29189733, 0.38052993, 0.30431633,\n",
              "        0.26338419, 0.25841437, 0.12727959, 0.23169975, 0.18537332]),\n",
              " array([0.24687647, 0.25752158, 0.22948615, 0.28054144, 0.26584905]))"
            ]
          },
          "metadata": {
            "tags": []
          },
          "execution_count": 80
        }
      ]
    },
    {
      "cell_type": "code",
      "metadata": {
        "id": "XTszhe1oQ22N",
        "colab_type": "code",
        "outputId": "35588265-f53f-4a99-d3fe-3c68df6424a1",
        "colab": {
          "base_uri": "https://localhost:8080/",
          "height": 102
        }
      },
      "source": [
        "# Mean and Standard deviation of entire matrix X\n",
        "print(\"min(X) = {}\".format(np.min(X)))\n",
        "print(\"argmin(X) = {}\".format(np.argmin(X)))\n",
        "print(\"mean(X) = {}\".format(np.mean(X)))\n",
        "print(\"var(X) = {}\".format(np.var(X)))\n",
        "print(\"std(X) = {}\".format(np.std(X)))\n"
      ],
      "execution_count": 0,
      "outputs": [
        {
          "output_type": "stream",
          "text": [
            "min(X) = 0.018789800436355142\n",
            "argmin(X) = 34\n",
            "mean(X) = 0.5379651182755409\n",
            "var(X) = 0.0741286783312718\n",
            "std(X) = 0.27226582292177587\n"
          ],
          "name": "stdout"
        }
      ]
    },
    {
      "cell_type": "markdown",
      "metadata": {
        "id": "7dw7W8HOGXKA",
        "colab_type": "text"
      },
      "source": [
        "Let $Y$ denote a square matrix of size 10 with random values. Print the following:\n",
        "* Determinant\n",
        "* Rank of the matrix\n",
        "* Diagonal Elements\n",
        "* Trace\n",
        "* Eigen values\n",
        "* Matrices obtained after Singular Value Decomposition\n",
        "* Inverse if exists, otherwise Pseudo-Inverse\n",
        "* Multiplication $Y$ with $X$\n",
        "* Element-wise multiplication of $Y$ and its inverse(or pseudo-inverse)"
      ]
    },
    {
      "cell_type": "code",
      "metadata": {
        "id": "Tswbn9hgL7yi",
        "colab_type": "code",
        "outputId": "934abd04-70a8-4e34-edd1-8e8daea5b723",
        "colab": {
          "base_uri": "https://localhost:8080/",
          "height": 1000
        }
      },
      "source": [
        "np.random.seed(3)\n",
        "Y = np.random.rand(10,10)\n",
        "Y\n",
        "\n",
        "# compute the determinant, rank, diagonal elements and trace of Y\n",
        "det = np.linalg.det(Y)\n",
        "print(\"determinant(Y)= {}\".format(det))\n",
        "rank = np.linalg.matrix_rank(Y)\n",
        "print(\"rank(Y)= {}\".format(rank))\n",
        "diag_Y = np.diag(Y)\n",
        "print('diag_Y = {}'.format(diag_Y))\n",
        "trace = np.trace(Y)\n",
        "print(\"trace(Y)= {}\".format(trace))\n",
        "\n",
        "# eigen values and the eigen vectors of matrix Y\n",
        "eigen_val,eigen_vec = np.linalg.eig(Y)\n",
        "print(\"the eigen values of Y:\\n{}\".format(eigen_val))\n",
        "print(\"the the right eigen vectors of Y:\\n{}\".format(eigen_vec))\n",
        "\n",
        "# singular value decomposition on matrix Y\n",
        "u,s,vh = np.linalg.svd(Y)\n",
        "print(\"U of Y is :\\n{}\".format(u))\n",
        "print(\"V of Y is :\\n{}\".format(vh))\n",
        "print(\"singular values of Y are :\\n{}\".format(s))\n",
        "\n",
        "#  the (multiplicative) inverse of matrix Y\n",
        "print(\"the inverse of Y is:\")\n",
        "Inv_Y = np.linalg.inv(Y)\n",
        "print(Inv_Y)\n",
        "\n",
        "# the (Moore-Penrose) pseudo-inverse of Y\n",
        "print(\"the pseudo-inverse of Y is:\")\n",
        "Ps_InvY = np.linalg.pinv(Y)\n",
        "print(Ps_InvY)\n",
        "\n",
        "# Multiplication  Y  with  X\n",
        "Mult_YX = Y.dot(X)\n",
        "print(\"the matrix multiplication is:\")\n",
        "print(Mult_YX)\n",
        "\n",
        "# Element-wise multiplication of  Y  and its inverse\n",
        "elem_Y= np.multiply(Y, Inv_Y)\n",
        "print(\"the elementwise matrix multiplication is:\")\n",
        "print(elem_Y)"
      ],
      "execution_count": 0,
      "outputs": [
        {
          "output_type": "stream",
          "text": [
            "determinant(Y)= -0.012807808169095483\n",
            "rank(Y)= 10\n",
            "diag_Y = [0.5507979  0.45683322 0.44045372 0.84575087 0.4576864  0.36217621\n",
            " 0.06152893 0.19897603 0.92672568 0.19638058]\n",
            "trace(Y)= 4.497309545724899\n",
            "the eigen values of Y:\n",
            "[ 4.797525  +0.j          0.72411408+0.52238181j  0.72411408-0.52238181j\n",
            " -0.48250062+0.55413671j -0.48250062-0.55413671j -0.6909002 +0.j\n",
            " -0.25905659+0.32357377j -0.25905659-0.32357377j  0.2127855 +0.08352477j\n",
            "  0.2127855 -0.08352477j]\n",
            "the the right eigen vectors of Y:\n",
            "[[ 0.29593906+0.j          0.14213977+0.19798456j  0.14213977-0.19798456j\n",
            "  -0.37236549+0.00325385j -0.37236549-0.00325385j -0.1096481 +0.j\n",
            "  -0.0132423 +0.12273111j -0.0132423 -0.12273111j -0.56228934-0.10973258j\n",
            "  -0.56228934+0.10973258j]\n",
            " [ 0.25059285+0.j          0.01404552+0.1967944j   0.01404552-0.1967944j\n",
            "  -0.16781094-0.17307308j -0.16781094+0.17307308j -0.29711444+0.j\n",
            "  -0.04108937-0.4113554j  -0.04108937+0.4113554j   0.61892544+0.j\n",
            "   0.61892544-0.j        ]\n",
            " [ 0.31416894+0.j         -0.24186998+0.15655466j -0.24186998-0.15655466j\n",
            "  -0.16993115+0.15284371j -0.16993115-0.15284371j  0.36362726+0.j\n",
            "  -0.10206063+0.15541211j -0.10206063-0.15541211j  0.16701388+0.18450241j\n",
            "   0.16701388-0.18450241j]\n",
            " [ 0.36027404+0.j          0.52448941+0.j          0.52448941-0.j\n",
            "   0.48969059+0.j          0.48969059-0.j          0.17074825+0.j\n",
            "   0.14078898+0.01851681j  0.14078898-0.01851681j -0.13278372+0.03975259j\n",
            "  -0.13278372-0.03975259j]\n",
            " [ 0.27990836+0.j         -0.13624801+0.01805996j -0.13624801-0.01805996j\n",
            "  -0.0731246 -0.10412128j -0.0731246 +0.10412128j  0.13537705+0.j\n",
            "  -0.29263074+0.368267j   -0.29263074-0.368267j   -0.07942445-0.1381196j\n",
            "  -0.07942445+0.1381196j ]\n",
            " [ 0.30697292+0.j         -0.2288709 -0.09164898j -0.2288709 +0.09164898j\n",
            "   0.34166486-0.10037728j  0.34166486+0.10037728j  0.38961338+0.j\n",
            "   0.1575938 -0.27237341j  0.1575938 +0.27237341j -0.05056956+0.01833742j\n",
            "  -0.05056956-0.01833742j]\n",
            " [ 0.28526996+0.j         -0.07276121-0.22120787j -0.07276121+0.22120787j\n",
            "  -0.09920762+0.30369397j -0.09920762-0.30369397j -0.38942645+0.j\n",
            "  -0.35795075-0.21303717j -0.35795075+0.21303717j  0.25824685-0.05397791j\n",
            "   0.25824685+0.05397791j]\n",
            " [ 0.23358056+0.j          0.33195752+0.22875065j  0.33195752-0.22875065j\n",
            "   0.22899202+0.29805206j  0.22899202-0.29805206j -0.15526644+0.j\n",
            "   0.47450761+0.j          0.47450761-0.j          0.01343252-0.05360821j\n",
            "   0.01343252+0.05360821j]\n",
            " [ 0.39548419+0.j         -0.14569343-0.47441452j -0.14569343+0.47441452j\n",
            "  -0.29937425-0.1334132j  -0.29937425+0.1334132j   0.26931546+0.j\n",
            "   0.07126882+0.08476271j  0.07126882-0.08476271j -0.02419704-0.00279054j\n",
            "  -0.02419704+0.00279054j]\n",
            " [ 0.3952166 +0.j         -0.02644966-0.01254236j -0.02644966+0.01254236j\n",
            "   0.09200666-0.09461051j  0.09200666+0.09461051j -0.5656002 +0.j\n",
            "   0.04736886+0.16022229j  0.04736886-0.16022229j -0.31202472+0.09318458j\n",
            "  -0.31202472-0.09318458j]]\n",
            "U of Y is :\n",
            "[[-0.31776408 -0.02455508 -0.60644878 -0.17883359 -0.12672161  0.14873878\n",
            "  -0.17823942 -0.52859453 -0.02295855 -0.38570883]\n",
            " [-0.26118514 -0.10864541 -0.24911354  0.26547359  0.52168399 -0.25773901\n",
            "  -0.46995326  0.21752636 -0.39285046  0.16234491]\n",
            " [-0.31347907 -0.34483471 -0.25292297  0.1214296   0.1486964   0.33436315\n",
            "   0.54080229  0.48017168  0.05660692 -0.20966421]\n",
            " [-0.35815379  0.59490017  0.30255161  0.15850614 -0.11046295  0.3051409\n",
            "   0.07395537  0.03044889 -0.50561658 -0.18384856]\n",
            " [-0.28385845 -0.18085696 -0.1583078   0.10535533 -0.46807835 -0.08377643\n",
            "   0.24075452 -0.16170764 -0.24786952  0.69201648]\n",
            " [-0.28871348 -0.27577124  0.40271105  0.60433658  0.11931679 -0.04899205\n",
            "   0.02593316 -0.44875145  0.27874747 -0.12964796]\n",
            " [-0.27897316  0.00398904  0.20819753 -0.52536617  0.41116881 -0.41991923\n",
            "   0.42687225 -0.24145621 -0.12958507 -0.00984813]\n",
            " [-0.24788529  0.48136836 -0.15792433 -0.02303902  0.3246308   0.25755952\n",
            "  -0.01429533 -0.03088365  0.56052488  0.44079262]\n",
            " [-0.37505167 -0.36728578  0.39799373 -0.45186801 -0.10830044  0.34456765\n",
            "  -0.4447402   0.14147957  0.0716725   0.09192695]\n",
            " [-0.40049601  0.19846099 -0.02705464  0.02500837 -0.39745062 -0.57941613\n",
            "  -0.10288216  0.3673956   0.33321483 -0.22039139]]\n",
            "V of Y is :\n",
            "[[-0.28816735 -0.35560525 -0.33294235 -0.33250662 -0.36658188 -0.3625847\n",
            "  -0.26573249 -0.23278667 -0.30457183 -0.29270444]\n",
            " [ 0.53693497  0.11306854  0.39562078  0.25099719 -0.07369559 -0.37753546\n",
            "  -0.08584363  0.00333609 -0.2399022  -0.51623983]\n",
            " [-0.084609   -0.22589744 -0.00306935  0.1954239  -0.327784   -0.49318928\n",
            "   0.42323124  0.18588504  0.58200169  0.02301787]\n",
            " [ 0.01388163 -0.2631197   0.42190391 -0.53612946  0.01058633 -0.04415909\n",
            "   0.29385139  0.49501812 -0.32731018  0.15669071]\n",
            " [-0.27340804  0.28220631  0.28945859 -0.1626885   0.14790418 -0.35915036\n",
            "  -0.64971879  0.23854611  0.29589227  0.1337842 ]\n",
            " [ 0.10830593  0.27974551 -0.20571161  0.10308827  0.10096026 -0.5325142\n",
            "   0.15994871 -0.16150892 -0.3941055   0.59692177]\n",
            " [ 0.44882085  0.34972045 -0.01773924 -0.50737391 -0.52251393  0.11970007\n",
            "  -0.02807841 -0.20137782  0.25705553  0.15409283]\n",
            " [-0.35599817 -0.05022624  0.63427946  0.20935183 -0.34847081  0.11510691\n",
            "   0.03182222 -0.47748403 -0.1161671   0.21777064]\n",
            " [ 0.18417681 -0.32168889  0.15954963 -0.32397524  0.5548368  -0.1807982\n",
            "   0.08626619 -0.55063636  0.28439362 -0.01119242]\n",
            " [-0.41560913  0.59522266  0.02089304 -0.23979844  0.13515565 -0.0893732\n",
            "   0.44674689 -0.10709455 -0.02239562 -0.42098815]]\n",
            "singular values of Y are :\n",
            "[4.89636645 1.42832104 1.17173389 0.94068764 0.76892251 0.62457278\n",
            " 0.52105948 0.28969576 0.24512275 0.09350223]\n",
            "the inverse of Y is:\n",
            "[[ 2.31470983 -1.92264991  0.7642126   0.78096977 -2.74248585  1.20175092\n",
            "   0.38693174 -1.37664514 -0.96484143  0.83123246]\n",
            " [-2.24504111  1.25605742 -0.91466223 -0.39587642  4.71823627 -1.32162185\n",
            "   0.52594984  2.39368168  0.33051878 -2.33540101]\n",
            " [-1.41290916  0.66149939  0.94968095 -0.18869248 -0.50069581 -0.55664939\n",
            "  -0.55275157  0.57384943 -0.04209635  1.11025544]\n",
            " [ 0.88051129  0.37055438  0.15632501  1.25248223 -1.81219563 -0.7249179\n",
            "  -0.19613524 -1.81766381  0.56943994  0.52226388]\n",
            " [ 0.39743656 -0.28842728 -1.09880632 -1.57965965  0.36480771  0.90235521\n",
            "  -0.47743451  2.09911148  0.53638288 -0.04562024]\n",
            " [ 0.36068175  0.22958502  0.33426258  0.10367281 -0.06700744 -0.37158555\n",
            "   0.22972702 -1.26286862 -0.45133033  0.75430018]\n",
            " [-2.01045364  0.19347423 -1.01393804 -0.74303568  3.56449935 -0.31892146\n",
            "  -0.67116163  2.01265699  0.72873355 -0.69454601]\n",
            " [ 1.18043988  0.86047396 -0.88991494  1.30425635 -0.14247318  0.69661973\n",
            "   0.5413572  -1.69774697 -0.60797727 -1.00698216]\n",
            " [-0.1679456  -0.63197036 -0.0540802  -0.73587818 -0.46423184  0.67805628\n",
            "   0.88551393  0.37662528 -0.03416891  0.42341327]\n",
            " [ 1.3938872  -0.74982353  1.96636643  1.00676681 -3.21953806  0.44078124\n",
            "  -0.40298654 -1.90114336 -0.04414834  0.55576763]]\n",
            "the pseudo-inverse of Y is:\n",
            "[[ 2.31470983 -1.92264991  0.7642126   0.78096977 -2.74248585  1.20175092\n",
            "   0.38693174 -1.37664514 -0.96484143  0.83123246]\n",
            " [-2.24504111  1.25605742 -0.91466223 -0.39587642  4.71823627 -1.32162185\n",
            "   0.52594984  2.39368168  0.33051878 -2.33540101]\n",
            " [-1.41290916  0.66149939  0.94968095 -0.18869248 -0.50069581 -0.55664939\n",
            "  -0.55275157  0.57384943 -0.04209635  1.11025544]\n",
            " [ 0.88051129  0.37055438  0.15632501  1.25248223 -1.81219563 -0.7249179\n",
            "  -0.19613524 -1.81766381  0.56943994  0.52226388]\n",
            " [ 0.39743656 -0.28842728 -1.09880632 -1.57965965  0.36480771  0.90235521\n",
            "  -0.47743451  2.09911148  0.53638288 -0.04562024]\n",
            " [ 0.36068175  0.22958502  0.33426258  0.10367281 -0.06700744 -0.37158555\n",
            "   0.22972702 -1.26286862 -0.45133033  0.75430018]\n",
            " [-2.01045364  0.19347423 -1.01393804 -0.74303568  3.56449935 -0.31892146\n",
            "  -0.67116163  2.01265699  0.72873355 -0.69454601]\n",
            " [ 1.18043988  0.86047396 -0.88991494  1.30425635 -0.14247318  0.69661973\n",
            "   0.5413572  -1.69774697 -0.60797727 -1.00698216]\n",
            " [-0.1679456  -0.63197036 -0.0540802  -0.73587818 -0.46423184  0.67805628\n",
            "   0.88551393  0.37662528 -0.03416891  0.42341327]\n",
            " [ 1.3938872  -0.74982353  1.96636643  1.00676681 -3.21953806  0.44078124\n",
            "  -0.40298654 -1.90114336 -0.04414834  0.55576763]]\n",
            "the matrix multiplication is:\n",
            "[[2.95726101 2.04939653 3.09073485 3.22311637 1.78554985]\n",
            " [2.61266989 1.75663954 2.48635951 2.79783984 1.50654432]\n",
            " [2.98361778 2.02894044 2.82637865 2.88685728 1.69799548]\n",
            " [2.98565892 2.85485651 3.58995669 4.0073463  2.2697569 ]\n",
            " [2.49815821 1.97791033 2.77809758 2.71690515 1.59098767]\n",
            " [2.72146909 2.39905911 2.58780909 2.78212857 1.71792628]\n",
            " [2.22935358 1.74438251 2.94718357 2.48955906 2.05838199]\n",
            " [2.30476788 1.92350098 2.41698824 2.81379687 1.38016019]\n",
            " [2.91925254 2.36604123 3.53647969 3.30424184 2.52990887]\n",
            " [3.39559098 2.84629279 4.05845051 4.01068273 2.35816262]]\n",
            "the elementwise matrix multiplication is:\n",
            "[[ 1.27493732 -1.36152035  0.22231307  0.39894092 -2.44889439  1.07712104\n",
            "   0.04859294 -0.2852999  -0.04965769  0.36641545]\n",
            " [-0.06707332  0.57380876 -0.59374754 -0.11024655  3.19073041 -0.78089721\n",
            "   0.01261327  1.33771879  0.0856878  -0.96942775]\n",
            " [-0.40059519  0.45851031  0.4182905  -0.02959976 -0.27270348 -0.43436174\n",
            "  -0.16934292  0.12737041 -0.01633217  1.03962504]\n",
            " [ 0.85937499  0.24915472  0.14113555  1.05928794 -0.68499915 -0.06684976\n",
            "  -0.12815691 -1.01396696  0.20588942  0.11753784]\n",
            " [ 0.16156588 -0.13525516 -0.29583776 -0.46093327  0.16696753  0.77650726\n",
            "  -0.27989737  0.59507263  0.14910237 -0.02073997]\n",
            " [ 0.07408776  0.04623354  0.17182269  0.00904331 -0.03240383 -0.13457945\n",
            "   0.16257474 -0.94304237 -0.3119112   0.51984891]\n",
            " [-0.75110573  0.12926687 -0.34458549 -0.42560628  1.1613394  -0.14196631\n",
            "  -0.04129586  0.48842239  0.70803941 -0.16015134]\n",
            " [ 0.81624763  0.5597184  -0.64424426  0.61963734 -0.08500859  0.04665222\n",
            "   0.03928204 -0.33781095 -0.09232803 -0.10080329]\n",
            " [-0.02171434 -0.34965513 -0.01015706 -0.70063053 -0.31642589  0.36684179\n",
            "   0.62621827  0.09938639 -0.03166521  0.35532547]\n",
            " [ 1.01240745 -0.36009522  1.65588343  0.74979192 -2.12594439  0.40286315\n",
            "  -0.25535869 -0.69570551 -0.02440717  0.10914197]]\n"
          ],
          "name": "stdout"
        }
      ]
    },
    {
      "cell_type": "markdown",
      "metadata": {
        "id": "LA-m4UYkMPTe",
        "colab_type": "text"
      },
      "source": [
        "## Part - 2\n",
        "---\n",
        "In this part, you will be working with the library ```pandas```. Import this library with an alias name ```pd```."
      ]
    },
    {
      "cell_type": "code",
      "metadata": {
        "id": "i8z7TpnZSIms",
        "colab_type": "code",
        "colab": {}
      },
      "source": [
        "# Initial imports\n",
        "import numpy as np\n",
        "import matplotlib.pyplot as plt\n",
        "import pandas as pd\n",
        "import seaborn as sns\n"
      ],
      "execution_count": 0,
      "outputs": []
    },
    {
      "cell_type": "markdown",
      "metadata": {
        "id": "2v-HkHnyuQ3X",
        "colab_type": "text"
      },
      "source": [
        "Download dataset from: http://biostat.mc.vanderbilt.edu/wiki/pub/Main/DataSets/titanic3.csv\n",
        "Read the data and display the first 5 rows"
      ]
    },
    {
      "cell_type": "code",
      "metadata": {
        "id": "LinX5ywNTUIm",
        "colab_type": "code",
        "outputId": "20e3a413-eeef-4cd3-c36f-585b68583bb8",
        "colab": {
          "base_uri": "https://localhost:8080/",
          "height": 204
        }
      },
      "source": [
        "#Download dataset from: http://biostat.mc.vanderbilt.edu/wiki/pub/Main/DataSets/titanic3.csv\n",
        "\n",
        "file_url = \"http://biostat.mc.vanderbilt.edu/wiki/pub/Main/DataSets/titanic3.csv\"\n",
        "file_url\n",
        "\n",
        "Data = pd.read_csv(file_url)\n",
        "Data.head(5)\n"
      ],
      "execution_count": 190,
      "outputs": [
        {
          "output_type": "execute_result",
          "data": {
            "text/html": [
              "<div>\n",
              "<style scoped>\n",
              "    .dataframe tbody tr th:only-of-type {\n",
              "        vertical-align: middle;\n",
              "    }\n",
              "\n",
              "    .dataframe tbody tr th {\n",
              "        vertical-align: top;\n",
              "    }\n",
              "\n",
              "    .dataframe thead th {\n",
              "        text-align: right;\n",
              "    }\n",
              "</style>\n",
              "<table border=\"1\" class=\"dataframe\">\n",
              "  <thead>\n",
              "    <tr style=\"text-align: right;\">\n",
              "      <th></th>\n",
              "      <th>pclass</th>\n",
              "      <th>survived</th>\n",
              "      <th>name</th>\n",
              "      <th>sex</th>\n",
              "      <th>age</th>\n",
              "      <th>sibsp</th>\n",
              "      <th>parch</th>\n",
              "      <th>ticket</th>\n",
              "      <th>fare</th>\n",
              "      <th>cabin</th>\n",
              "      <th>embarked</th>\n",
              "      <th>boat</th>\n",
              "      <th>body</th>\n",
              "      <th>home.dest</th>\n",
              "    </tr>\n",
              "  </thead>\n",
              "  <tbody>\n",
              "    <tr>\n",
              "      <th>0</th>\n",
              "      <td>1</td>\n",
              "      <td>1</td>\n",
              "      <td>Allen, Miss. Elisabeth Walton</td>\n",
              "      <td>female</td>\n",
              "      <td>29.00</td>\n",
              "      <td>0</td>\n",
              "      <td>0</td>\n",
              "      <td>24160</td>\n",
              "      <td>211.3375</td>\n",
              "      <td>B5</td>\n",
              "      <td>S</td>\n",
              "      <td>2</td>\n",
              "      <td>NaN</td>\n",
              "      <td>St Louis, MO</td>\n",
              "    </tr>\n",
              "    <tr>\n",
              "      <th>1</th>\n",
              "      <td>1</td>\n",
              "      <td>1</td>\n",
              "      <td>Allison, Master. Hudson Trevor</td>\n",
              "      <td>male</td>\n",
              "      <td>0.92</td>\n",
              "      <td>1</td>\n",
              "      <td>2</td>\n",
              "      <td>113781</td>\n",
              "      <td>151.5500</td>\n",
              "      <td>C22 C26</td>\n",
              "      <td>S</td>\n",
              "      <td>11</td>\n",
              "      <td>NaN</td>\n",
              "      <td>Montreal, PQ / Chesterville, ON</td>\n",
              "    </tr>\n",
              "    <tr>\n",
              "      <th>2</th>\n",
              "      <td>1</td>\n",
              "      <td>0</td>\n",
              "      <td>Allison, Miss. Helen Loraine</td>\n",
              "      <td>female</td>\n",
              "      <td>2.00</td>\n",
              "      <td>1</td>\n",
              "      <td>2</td>\n",
              "      <td>113781</td>\n",
              "      <td>151.5500</td>\n",
              "      <td>C22 C26</td>\n",
              "      <td>S</td>\n",
              "      <td>NaN</td>\n",
              "      <td>NaN</td>\n",
              "      <td>Montreal, PQ / Chesterville, ON</td>\n",
              "    </tr>\n",
              "    <tr>\n",
              "      <th>3</th>\n",
              "      <td>1</td>\n",
              "      <td>0</td>\n",
              "      <td>Allison, Mr. Hudson Joshua Creighton</td>\n",
              "      <td>male</td>\n",
              "      <td>30.00</td>\n",
              "      <td>1</td>\n",
              "      <td>2</td>\n",
              "      <td>113781</td>\n",
              "      <td>151.5500</td>\n",
              "      <td>C22 C26</td>\n",
              "      <td>S</td>\n",
              "      <td>NaN</td>\n",
              "      <td>135.0</td>\n",
              "      <td>Montreal, PQ / Chesterville, ON</td>\n",
              "    </tr>\n",
              "    <tr>\n",
              "      <th>4</th>\n",
              "      <td>1</td>\n",
              "      <td>0</td>\n",
              "      <td>Allison, Mrs. Hudson J C (Bessie Waldo Daniels)</td>\n",
              "      <td>female</td>\n",
              "      <td>25.00</td>\n",
              "      <td>1</td>\n",
              "      <td>2</td>\n",
              "      <td>113781</td>\n",
              "      <td>151.5500</td>\n",
              "      <td>C22 C26</td>\n",
              "      <td>S</td>\n",
              "      <td>NaN</td>\n",
              "      <td>NaN</td>\n",
              "      <td>Montreal, PQ / Chesterville, ON</td>\n",
              "    </tr>\n",
              "  </tbody>\n",
              "</table>\n",
              "</div>"
            ],
            "text/plain": [
              "   pclass  survived  ...   body                        home.dest\n",
              "0       1         1  ...    NaN                     St Louis, MO\n",
              "1       1         1  ...    NaN  Montreal, PQ / Chesterville, ON\n",
              "2       1         0  ...    NaN  Montreal, PQ / Chesterville, ON\n",
              "3       1         0  ...  135.0  Montreal, PQ / Chesterville, ON\n",
              "4       1         0  ...    NaN  Montreal, PQ / Chesterville, ON\n",
              "\n",
              "[5 rows x 14 columns]"
            ]
          },
          "metadata": {
            "tags": []
          },
          "execution_count": 190
        }
      ]
    },
    {
      "cell_type": "markdown",
      "metadata": {
        "id": "vTk1-mF5WYFN",
        "colab_type": "text"
      },
      "source": [
        "### Preprocessing of the Dataset"
      ]
    },
    {
      "cell_type": "markdown",
      "metadata": {
        "id": "kx9UrI9WWt17",
        "colab_type": "text"
      },
      "source": [
        "\n",
        "\n",
        "---\n",
        "\n",
        "\n",
        "**1. Convert the categorical values of columns 'sex', 'embarked', 'pclass' into dummy values and add them into titanic_data_new DataFrame**\n",
        "\n",
        "\n",
        "\n",
        "\n",
        "---\n",
        "\n"
      ]
    },
    {
      "cell_type": "code",
      "metadata": {
        "id": "AwDh9njbZ0QU",
        "colab_type": "code",
        "colab": {
          "base_uri": "https://localhost:8080/",
          "height": 487
        },
        "outputId": "0c020a1e-13c8-4de7-8530-fac53da1d8ab"
      },
      "source": [
        "# sex_d=pd.get_dummies(Data['sex'])\n",
        "# sex_d\n",
        "# emb_d=pd.get_dummies(Data['embarked'])\n",
        "# emb_d\n",
        "# pclass_d=pd.get_dummies(Data['pclass'])\n",
        "# pclass_d\n",
        "############################\n",
        "Data['Sex_male'] = Data.sex.map({'female':0, 'male':1})\n",
        "pd.get_dummies(Data.sex)\n",
        "pd.get_dummies(Data.sex, prefix='sex').iloc[:, 1:]\n",
        "sex_d=pd.get_dummies(Data.sex, prefix='sex').loc[:, 'Sex_male':]\n",
        "sex_d\n",
        "Data.embarked.value_counts()\n",
        "pd.get_dummies(Data.embarked, prefix='Embarked').iloc[:, 1:]\n",
        "embarked_d = pd.get_dummies(Data.embarked, prefix='Embarked').iloc[:, 1:]\n",
        "embarked_d\n",
        "Data.pclass.value_counts()\n",
        "pd.get_dummies(Data.pclass, prefix='pclass').iloc[:, 1:]\n",
        "pclass_d = pd.get_dummies(Data.pclass, prefix='pclass').iloc[:, 1:]\n",
        "pclass_d\n",
        "pd.concat([Data, embarked_d], axis=1)\n",
        "titanic_data_new= pd.get_dummies(Data, columns=['sex', 'embarked', 'pclass'], drop_first=True)\n",
        "titanic_data_new"
      ],
      "execution_count": 195,
      "outputs": [
        {
          "output_type": "execute_result",
          "data": {
            "text/html": [
              "<div>\n",
              "<style scoped>\n",
              "    .dataframe tbody tr th:only-of-type {\n",
              "        vertical-align: middle;\n",
              "    }\n",
              "\n",
              "    .dataframe tbody tr th {\n",
              "        vertical-align: top;\n",
              "    }\n",
              "\n",
              "    .dataframe thead th {\n",
              "        text-align: right;\n",
              "    }\n",
              "</style>\n",
              "<table border=\"1\" class=\"dataframe\">\n",
              "  <thead>\n",
              "    <tr style=\"text-align: right;\">\n",
              "      <th></th>\n",
              "      <th>survived</th>\n",
              "      <th>name</th>\n",
              "      <th>age</th>\n",
              "      <th>sibsp</th>\n",
              "      <th>parch</th>\n",
              "      <th>ticket</th>\n",
              "      <th>fare</th>\n",
              "      <th>cabin</th>\n",
              "      <th>boat</th>\n",
              "      <th>body</th>\n",
              "      <th>home.dest</th>\n",
              "      <th>Sex_male</th>\n",
              "      <th>sex_male</th>\n",
              "      <th>embarked_Q</th>\n",
              "      <th>embarked_S</th>\n",
              "      <th>pclass_2</th>\n",
              "      <th>pclass_3</th>\n",
              "    </tr>\n",
              "  </thead>\n",
              "  <tbody>\n",
              "    <tr>\n",
              "      <th>0</th>\n",
              "      <td>1</td>\n",
              "      <td>Allen, Miss. Elisabeth Walton</td>\n",
              "      <td>29.00</td>\n",
              "      <td>0</td>\n",
              "      <td>0</td>\n",
              "      <td>24160</td>\n",
              "      <td>211.3375</td>\n",
              "      <td>B5</td>\n",
              "      <td>2</td>\n",
              "      <td>NaN</td>\n",
              "      <td>St Louis, MO</td>\n",
              "      <td>0</td>\n",
              "      <td>0</td>\n",
              "      <td>0</td>\n",
              "      <td>1</td>\n",
              "      <td>0</td>\n",
              "      <td>0</td>\n",
              "    </tr>\n",
              "    <tr>\n",
              "      <th>1</th>\n",
              "      <td>1</td>\n",
              "      <td>Allison, Master. Hudson Trevor</td>\n",
              "      <td>0.92</td>\n",
              "      <td>1</td>\n",
              "      <td>2</td>\n",
              "      <td>113781</td>\n",
              "      <td>151.5500</td>\n",
              "      <td>C22 C26</td>\n",
              "      <td>11</td>\n",
              "      <td>NaN</td>\n",
              "      <td>Montreal, PQ / Chesterville, ON</td>\n",
              "      <td>1</td>\n",
              "      <td>1</td>\n",
              "      <td>0</td>\n",
              "      <td>1</td>\n",
              "      <td>0</td>\n",
              "      <td>0</td>\n",
              "    </tr>\n",
              "    <tr>\n",
              "      <th>2</th>\n",
              "      <td>0</td>\n",
              "      <td>Allison, Miss. Helen Loraine</td>\n",
              "      <td>2.00</td>\n",
              "      <td>1</td>\n",
              "      <td>2</td>\n",
              "      <td>113781</td>\n",
              "      <td>151.5500</td>\n",
              "      <td>C22 C26</td>\n",
              "      <td>NaN</td>\n",
              "      <td>NaN</td>\n",
              "      <td>Montreal, PQ / Chesterville, ON</td>\n",
              "      <td>0</td>\n",
              "      <td>0</td>\n",
              "      <td>0</td>\n",
              "      <td>1</td>\n",
              "      <td>0</td>\n",
              "      <td>0</td>\n",
              "    </tr>\n",
              "    <tr>\n",
              "      <th>3</th>\n",
              "      <td>0</td>\n",
              "      <td>Allison, Mr. Hudson Joshua Creighton</td>\n",
              "      <td>30.00</td>\n",
              "      <td>1</td>\n",
              "      <td>2</td>\n",
              "      <td>113781</td>\n",
              "      <td>151.5500</td>\n",
              "      <td>C22 C26</td>\n",
              "      <td>NaN</td>\n",
              "      <td>135.0</td>\n",
              "      <td>Montreal, PQ / Chesterville, ON</td>\n",
              "      <td>1</td>\n",
              "      <td>1</td>\n",
              "      <td>0</td>\n",
              "      <td>1</td>\n",
              "      <td>0</td>\n",
              "      <td>0</td>\n",
              "    </tr>\n",
              "    <tr>\n",
              "      <th>4</th>\n",
              "      <td>0</td>\n",
              "      <td>Allison, Mrs. Hudson J C (Bessie Waldo Daniels)</td>\n",
              "      <td>25.00</td>\n",
              "      <td>1</td>\n",
              "      <td>2</td>\n",
              "      <td>113781</td>\n",
              "      <td>151.5500</td>\n",
              "      <td>C22 C26</td>\n",
              "      <td>NaN</td>\n",
              "      <td>NaN</td>\n",
              "      <td>Montreal, PQ / Chesterville, ON</td>\n",
              "      <td>0</td>\n",
              "      <td>0</td>\n",
              "      <td>0</td>\n",
              "      <td>1</td>\n",
              "      <td>0</td>\n",
              "      <td>0</td>\n",
              "    </tr>\n",
              "    <tr>\n",
              "      <th>...</th>\n",
              "      <td>...</td>\n",
              "      <td>...</td>\n",
              "      <td>...</td>\n",
              "      <td>...</td>\n",
              "      <td>...</td>\n",
              "      <td>...</td>\n",
              "      <td>...</td>\n",
              "      <td>...</td>\n",
              "      <td>...</td>\n",
              "      <td>...</td>\n",
              "      <td>...</td>\n",
              "      <td>...</td>\n",
              "      <td>...</td>\n",
              "      <td>...</td>\n",
              "      <td>...</td>\n",
              "      <td>...</td>\n",
              "      <td>...</td>\n",
              "    </tr>\n",
              "    <tr>\n",
              "      <th>1304</th>\n",
              "      <td>0</td>\n",
              "      <td>Zabour, Miss. Hileni</td>\n",
              "      <td>14.50</td>\n",
              "      <td>1</td>\n",
              "      <td>0</td>\n",
              "      <td>2665</td>\n",
              "      <td>14.4542</td>\n",
              "      <td>NaN</td>\n",
              "      <td>NaN</td>\n",
              "      <td>328.0</td>\n",
              "      <td>NaN</td>\n",
              "      <td>0</td>\n",
              "      <td>0</td>\n",
              "      <td>0</td>\n",
              "      <td>0</td>\n",
              "      <td>0</td>\n",
              "      <td>1</td>\n",
              "    </tr>\n",
              "    <tr>\n",
              "      <th>1305</th>\n",
              "      <td>0</td>\n",
              "      <td>Zabour, Miss. Thamine</td>\n",
              "      <td>NaN</td>\n",
              "      <td>1</td>\n",
              "      <td>0</td>\n",
              "      <td>2665</td>\n",
              "      <td>14.4542</td>\n",
              "      <td>NaN</td>\n",
              "      <td>NaN</td>\n",
              "      <td>NaN</td>\n",
              "      <td>NaN</td>\n",
              "      <td>0</td>\n",
              "      <td>0</td>\n",
              "      <td>0</td>\n",
              "      <td>0</td>\n",
              "      <td>0</td>\n",
              "      <td>1</td>\n",
              "    </tr>\n",
              "    <tr>\n",
              "      <th>1306</th>\n",
              "      <td>0</td>\n",
              "      <td>Zakarian, Mr. Mapriededer</td>\n",
              "      <td>26.50</td>\n",
              "      <td>0</td>\n",
              "      <td>0</td>\n",
              "      <td>2656</td>\n",
              "      <td>7.2250</td>\n",
              "      <td>NaN</td>\n",
              "      <td>NaN</td>\n",
              "      <td>304.0</td>\n",
              "      <td>NaN</td>\n",
              "      <td>1</td>\n",
              "      <td>1</td>\n",
              "      <td>0</td>\n",
              "      <td>0</td>\n",
              "      <td>0</td>\n",
              "      <td>1</td>\n",
              "    </tr>\n",
              "    <tr>\n",
              "      <th>1307</th>\n",
              "      <td>0</td>\n",
              "      <td>Zakarian, Mr. Ortin</td>\n",
              "      <td>27.00</td>\n",
              "      <td>0</td>\n",
              "      <td>0</td>\n",
              "      <td>2670</td>\n",
              "      <td>7.2250</td>\n",
              "      <td>NaN</td>\n",
              "      <td>NaN</td>\n",
              "      <td>NaN</td>\n",
              "      <td>NaN</td>\n",
              "      <td>1</td>\n",
              "      <td>1</td>\n",
              "      <td>0</td>\n",
              "      <td>0</td>\n",
              "      <td>0</td>\n",
              "      <td>1</td>\n",
              "    </tr>\n",
              "    <tr>\n",
              "      <th>1308</th>\n",
              "      <td>0</td>\n",
              "      <td>Zimmerman, Mr. Leo</td>\n",
              "      <td>29.00</td>\n",
              "      <td>0</td>\n",
              "      <td>0</td>\n",
              "      <td>315082</td>\n",
              "      <td>7.8750</td>\n",
              "      <td>NaN</td>\n",
              "      <td>NaN</td>\n",
              "      <td>NaN</td>\n",
              "      <td>NaN</td>\n",
              "      <td>1</td>\n",
              "      <td>1</td>\n",
              "      <td>0</td>\n",
              "      <td>1</td>\n",
              "      <td>0</td>\n",
              "      <td>1</td>\n",
              "    </tr>\n",
              "  </tbody>\n",
              "</table>\n",
              "<p>1309 rows × 17 columns</p>\n",
              "</div>"
            ],
            "text/plain": [
              "      survived  ... pclass_3\n",
              "0            1  ...        0\n",
              "1            1  ...        0\n",
              "2            0  ...        0\n",
              "3            0  ...        0\n",
              "4            0  ...        0\n",
              "...        ...  ...      ...\n",
              "1304         0  ...        1\n",
              "1305         0  ...        1\n",
              "1306         0  ...        1\n",
              "1307         0  ...        1\n",
              "1308         0  ...        1\n",
              "\n",
              "[1309 rows x 17 columns]"
            ]
          },
          "metadata": {
            "tags": []
          },
          "execution_count": 195
        }
      ]
    },
    {
      "cell_type": "markdown",
      "metadata": {
        "id": "Z9bxOfzDbY-n",
        "colab_type": "text"
      },
      "source": [
        "\n",
        "\n",
        "---\n",
        "\n",
        "\n",
        "**2. Fill the missing data in Age and Fare columns with the mean value of the respected column then add these columns to titanic_data_new**\n",
        "\n",
        "\n",
        "---\n",
        "\n"
      ]
    },
    {
      "cell_type": "code",
      "metadata": {
        "id": "DNx7Pr0ehhAs",
        "colab_type": "code",
        "colab": {
          "base_uri": "https://localhost:8080/",
          "height": 521
        },
        "outputId": "18f08723-b86e-4b19-9ae6-1dd970bf0022"
      },
      "source": [
        "m_a= titanic_data_new['age'].mean()\n",
        "m_f= titanic_data_new['fare'].mean()\n",
        "new_age= titanic_data_new['age'].fillna(m_a)\n",
        "new_fare= titanic_data_new['fare'].fillna(m_f)\n",
        "titanic_data_new['new_age']= new_age\n",
        "titanic_data_new['new_fare']= new_fare\n",
        "titanic_data_new"
      ],
      "execution_count": 304,
      "outputs": [
        {
          "output_type": "execute_result",
          "data": {
            "text/html": [
              "<div>\n",
              "<style scoped>\n",
              "    .dataframe tbody tr th:only-of-type {\n",
              "        vertical-align: middle;\n",
              "    }\n",
              "\n",
              "    .dataframe tbody tr th {\n",
              "        vertical-align: top;\n",
              "    }\n",
              "\n",
              "    .dataframe thead th {\n",
              "        text-align: right;\n",
              "    }\n",
              "</style>\n",
              "<table border=\"1\" class=\"dataframe\">\n",
              "  <thead>\n",
              "    <tr style=\"text-align: right;\">\n",
              "      <th></th>\n",
              "      <th>survived</th>\n",
              "      <th>name</th>\n",
              "      <th>age</th>\n",
              "      <th>sibsp</th>\n",
              "      <th>parch</th>\n",
              "      <th>ticket</th>\n",
              "      <th>fare</th>\n",
              "      <th>cabin</th>\n",
              "      <th>boat</th>\n",
              "      <th>body</th>\n",
              "      <th>home.dest</th>\n",
              "      <th>Sex_male</th>\n",
              "      <th>sex_male</th>\n",
              "      <th>embarked_Q</th>\n",
              "      <th>embarked_S</th>\n",
              "      <th>pclass_2</th>\n",
              "      <th>pclass_3</th>\n",
              "      <th>new_age</th>\n",
              "      <th>new_fare</th>\n",
              "    </tr>\n",
              "  </thead>\n",
              "  <tbody>\n",
              "    <tr>\n",
              "      <th>0</th>\n",
              "      <td>1</td>\n",
              "      <td>Allen, Miss. Elisabeth Walton</td>\n",
              "      <td>29.00</td>\n",
              "      <td>0</td>\n",
              "      <td>0</td>\n",
              "      <td>24160</td>\n",
              "      <td>211.3375</td>\n",
              "      <td>B5</td>\n",
              "      <td>2</td>\n",
              "      <td>NaN</td>\n",
              "      <td>St Louis, MO</td>\n",
              "      <td>0</td>\n",
              "      <td>0</td>\n",
              "      <td>0</td>\n",
              "      <td>1</td>\n",
              "      <td>0</td>\n",
              "      <td>0</td>\n",
              "      <td>29.000000</td>\n",
              "      <td>211.3375</td>\n",
              "    </tr>\n",
              "    <tr>\n",
              "      <th>1</th>\n",
              "      <td>1</td>\n",
              "      <td>Allison, Master. Hudson Trevor</td>\n",
              "      <td>0.92</td>\n",
              "      <td>1</td>\n",
              "      <td>2</td>\n",
              "      <td>113781</td>\n",
              "      <td>151.5500</td>\n",
              "      <td>C22 C26</td>\n",
              "      <td>11</td>\n",
              "      <td>NaN</td>\n",
              "      <td>Montreal, PQ / Chesterville, ON</td>\n",
              "      <td>1</td>\n",
              "      <td>1</td>\n",
              "      <td>0</td>\n",
              "      <td>1</td>\n",
              "      <td>0</td>\n",
              "      <td>0</td>\n",
              "      <td>0.920000</td>\n",
              "      <td>151.5500</td>\n",
              "    </tr>\n",
              "    <tr>\n",
              "      <th>2</th>\n",
              "      <td>0</td>\n",
              "      <td>Allison, Miss. Helen Loraine</td>\n",
              "      <td>2.00</td>\n",
              "      <td>1</td>\n",
              "      <td>2</td>\n",
              "      <td>113781</td>\n",
              "      <td>151.5500</td>\n",
              "      <td>C22 C26</td>\n",
              "      <td>NaN</td>\n",
              "      <td>NaN</td>\n",
              "      <td>Montreal, PQ / Chesterville, ON</td>\n",
              "      <td>0</td>\n",
              "      <td>0</td>\n",
              "      <td>0</td>\n",
              "      <td>1</td>\n",
              "      <td>0</td>\n",
              "      <td>0</td>\n",
              "      <td>2.000000</td>\n",
              "      <td>151.5500</td>\n",
              "    </tr>\n",
              "    <tr>\n",
              "      <th>3</th>\n",
              "      <td>0</td>\n",
              "      <td>Allison, Mr. Hudson Joshua Creighton</td>\n",
              "      <td>30.00</td>\n",
              "      <td>1</td>\n",
              "      <td>2</td>\n",
              "      <td>113781</td>\n",
              "      <td>151.5500</td>\n",
              "      <td>C22 C26</td>\n",
              "      <td>NaN</td>\n",
              "      <td>135.0</td>\n",
              "      <td>Montreal, PQ / Chesterville, ON</td>\n",
              "      <td>1</td>\n",
              "      <td>1</td>\n",
              "      <td>0</td>\n",
              "      <td>1</td>\n",
              "      <td>0</td>\n",
              "      <td>0</td>\n",
              "      <td>30.000000</td>\n",
              "      <td>151.5500</td>\n",
              "    </tr>\n",
              "    <tr>\n",
              "      <th>4</th>\n",
              "      <td>0</td>\n",
              "      <td>Allison, Mrs. Hudson J C (Bessie Waldo Daniels)</td>\n",
              "      <td>25.00</td>\n",
              "      <td>1</td>\n",
              "      <td>2</td>\n",
              "      <td>113781</td>\n",
              "      <td>151.5500</td>\n",
              "      <td>C22 C26</td>\n",
              "      <td>NaN</td>\n",
              "      <td>NaN</td>\n",
              "      <td>Montreal, PQ / Chesterville, ON</td>\n",
              "      <td>0</td>\n",
              "      <td>0</td>\n",
              "      <td>0</td>\n",
              "      <td>1</td>\n",
              "      <td>0</td>\n",
              "      <td>0</td>\n",
              "      <td>25.000000</td>\n",
              "      <td>151.5500</td>\n",
              "    </tr>\n",
              "    <tr>\n",
              "      <th>...</th>\n",
              "      <td>...</td>\n",
              "      <td>...</td>\n",
              "      <td>...</td>\n",
              "      <td>...</td>\n",
              "      <td>...</td>\n",
              "      <td>...</td>\n",
              "      <td>...</td>\n",
              "      <td>...</td>\n",
              "      <td>...</td>\n",
              "      <td>...</td>\n",
              "      <td>...</td>\n",
              "      <td>...</td>\n",
              "      <td>...</td>\n",
              "      <td>...</td>\n",
              "      <td>...</td>\n",
              "      <td>...</td>\n",
              "      <td>...</td>\n",
              "      <td>...</td>\n",
              "      <td>...</td>\n",
              "    </tr>\n",
              "    <tr>\n",
              "      <th>1304</th>\n",
              "      <td>0</td>\n",
              "      <td>Zabour, Miss. Hileni</td>\n",
              "      <td>14.50</td>\n",
              "      <td>1</td>\n",
              "      <td>0</td>\n",
              "      <td>2665</td>\n",
              "      <td>14.4542</td>\n",
              "      <td>NaN</td>\n",
              "      <td>NaN</td>\n",
              "      <td>328.0</td>\n",
              "      <td>NaN</td>\n",
              "      <td>0</td>\n",
              "      <td>0</td>\n",
              "      <td>0</td>\n",
              "      <td>0</td>\n",
              "      <td>0</td>\n",
              "      <td>1</td>\n",
              "      <td>14.500000</td>\n",
              "      <td>14.4542</td>\n",
              "    </tr>\n",
              "    <tr>\n",
              "      <th>1305</th>\n",
              "      <td>0</td>\n",
              "      <td>Zabour, Miss. Thamine</td>\n",
              "      <td>NaN</td>\n",
              "      <td>1</td>\n",
              "      <td>0</td>\n",
              "      <td>2665</td>\n",
              "      <td>14.4542</td>\n",
              "      <td>NaN</td>\n",
              "      <td>NaN</td>\n",
              "      <td>NaN</td>\n",
              "      <td>NaN</td>\n",
              "      <td>0</td>\n",
              "      <td>0</td>\n",
              "      <td>0</td>\n",
              "      <td>0</td>\n",
              "      <td>0</td>\n",
              "      <td>1</td>\n",
              "      <td>29.881138</td>\n",
              "      <td>14.4542</td>\n",
              "    </tr>\n",
              "    <tr>\n",
              "      <th>1306</th>\n",
              "      <td>0</td>\n",
              "      <td>Zakarian, Mr. Mapriededer</td>\n",
              "      <td>26.50</td>\n",
              "      <td>0</td>\n",
              "      <td>0</td>\n",
              "      <td>2656</td>\n",
              "      <td>7.2250</td>\n",
              "      <td>NaN</td>\n",
              "      <td>NaN</td>\n",
              "      <td>304.0</td>\n",
              "      <td>NaN</td>\n",
              "      <td>1</td>\n",
              "      <td>1</td>\n",
              "      <td>0</td>\n",
              "      <td>0</td>\n",
              "      <td>0</td>\n",
              "      <td>1</td>\n",
              "      <td>26.500000</td>\n",
              "      <td>7.2250</td>\n",
              "    </tr>\n",
              "    <tr>\n",
              "      <th>1307</th>\n",
              "      <td>0</td>\n",
              "      <td>Zakarian, Mr. Ortin</td>\n",
              "      <td>27.00</td>\n",
              "      <td>0</td>\n",
              "      <td>0</td>\n",
              "      <td>2670</td>\n",
              "      <td>7.2250</td>\n",
              "      <td>NaN</td>\n",
              "      <td>NaN</td>\n",
              "      <td>NaN</td>\n",
              "      <td>NaN</td>\n",
              "      <td>1</td>\n",
              "      <td>1</td>\n",
              "      <td>0</td>\n",
              "      <td>0</td>\n",
              "      <td>0</td>\n",
              "      <td>1</td>\n",
              "      <td>27.000000</td>\n",
              "      <td>7.2250</td>\n",
              "    </tr>\n",
              "    <tr>\n",
              "      <th>1308</th>\n",
              "      <td>0</td>\n",
              "      <td>Zimmerman, Mr. Leo</td>\n",
              "      <td>29.00</td>\n",
              "      <td>0</td>\n",
              "      <td>0</td>\n",
              "      <td>315082</td>\n",
              "      <td>7.8750</td>\n",
              "      <td>NaN</td>\n",
              "      <td>NaN</td>\n",
              "      <td>NaN</td>\n",
              "      <td>NaN</td>\n",
              "      <td>1</td>\n",
              "      <td>1</td>\n",
              "      <td>0</td>\n",
              "      <td>1</td>\n",
              "      <td>0</td>\n",
              "      <td>1</td>\n",
              "      <td>29.000000</td>\n",
              "      <td>7.8750</td>\n",
              "    </tr>\n",
              "  </tbody>\n",
              "</table>\n",
              "<p>1309 rows × 19 columns</p>\n",
              "</div>"
            ],
            "text/plain": [
              "      survived  ...  new_fare\n",
              "0            1  ...  211.3375\n",
              "1            1  ...  151.5500\n",
              "2            0  ...  151.5500\n",
              "3            0  ...  151.5500\n",
              "4            0  ...  151.5500\n",
              "...        ...  ...       ...\n",
              "1304         0  ...   14.4542\n",
              "1305         0  ...   14.4542\n",
              "1306         0  ...    7.2250\n",
              "1307         0  ...    7.2250\n",
              "1308         0  ...    7.8750\n",
              "\n",
              "[1309 rows x 19 columns]"
            ]
          },
          "metadata": {
            "tags": []
          },
          "execution_count": 304
        }
      ]
    },
    {
      "cell_type": "markdown",
      "metadata": {
        "id": "SlRzKfhxkd1M",
        "colab_type": "text"
      },
      "source": [
        "###Normalization\n",
        "\n",
        "\n",
        "---\n",
        "\n",
        "\n",
        "\n",
        "1. Normalize the columns which have numerical data\n",
        "\n",
        "\n",
        "\n",
        "---\n",
        "\n"
      ]
    },
    {
      "cell_type": "code",
      "metadata": {
        "id": "Y3hpu92TlM38",
        "colab_type": "code",
        "colab": {}
      },
      "source": [
        "import numpy as np\n",
        "import matplotlib.pyplot as plt\n",
        "import pandas as pd\n",
        "import seaborn as sns\n",
        "import pandas as pd\n",
        "from sklearn.preprocessing import Normalizer\n",
        "a=titanic_data_new.select_dtypes(include=['float64'])\n",
        "b=a.keys()\n",
        "for keys in b:\n",
        "  titanic_data_new[keys]=(a[keys]-a[keys].mean())/a[keys].std()\n",
        "  print(keys)\n",
        "  print(titanic_data_new)"
      ],
      "execution_count": 0,
      "outputs": []
    },
    {
      "cell_type": "markdown",
      "metadata": {
        "id": "wB9-5x83mFAO",
        "colab_type": "text"
      },
      "source": [
        "\n",
        "\n",
        "---\n",
        "2. Drop the original age, fare columns\n",
        "3. Append the normalized columns to the titanic_data_new DataFrame.\n",
        "\n",
        "\n",
        "\n",
        "---\n",
        "\n"
      ]
    },
    {
      "cell_type": "code",
      "metadata": {
        "id": "Kb00kM0onQJy",
        "colab_type": "code",
        "colab": {}
      },
      "source": [
        "titanic_data_new_1=titanic_data_new.drop(columns=['age', 'fare'])\n",
        "titanic_data_new=titanic_data_new.append(titanic_data_new_1, ignore_index = True)\n",
        "titanic_data_new"
      ],
      "execution_count": 0,
      "outputs": []
    },
    {
      "cell_type": "markdown",
      "metadata": {
        "id": "uLxN3PozntKe",
        "colab_type": "text"
      },
      "source": [
        "###Plotting\n",
        "1. plot the age against the ID(continuous)\n",
        "2. plot the fare against the ID(scatter)"
      ]
    },
    {
      "cell_type": "code",
      "metadata": {
        "id": "LdSfNEKYn_RO",
        "colab_type": "code",
        "colab": {
          "base_uri": "https://localhost:8080/",
          "height": 558
        },
        "outputId": "b9ba1521-f497-473a-c54f-abb75eaa9997"
      },
      "source": [
        "age= titanic_data_new['new_age']\n",
        "fare=titanic_data_new['new_fare']\n",
        "#indx=titanic_data_new['index']\n",
        "X=titanic_data_new.reset_index().plot(x='index', y='new_age')\n",
        "X.set_xlim(0,1309)\n",
        "Y=titanic_data_new.reset_index().plot.scatter(x='index', y='new_fare')\n",
        "Y.set_xlim(0,1309)\n"
      ],
      "execution_count": 393,
      "outputs": [
        {
          "output_type": "execute_result",
          "data": {
            "text/plain": [
              "(0.0, 1309.0)"
            ]
          },
          "metadata": {
            "tags": []
          },
          "execution_count": 393
        },
        {
          "output_type": "display_data",
          "data": {
            "image/png": "[encoded data removed]",
            "text/plain": [
              "<Figure size 432x288 with 1 Axes>"
            ]
          },
          "metadata": {
            "tags": [],
            "needs_background": "light"
          }
        },
        {
          "output_type": "display_data",
          "data": {
            "image/png": "[encoded data removed]",
            "text/plain": [
              "<Figure size 432x288 with 1 Axes>"
            ]
          },
          "metadata": {
            "tags": [],
            "needs_background": "light"
          }
        }
      ]
    },
    {
      "cell_type": "markdown",
      "metadata": {
        "id": "TWhZcKvfvW2B",
        "colab_type": "text"
      },
      "source": [
        "## Part - 3\n",
        "---"
      ]
    },
    {
      "cell_type": "markdown",
      "metadata": {
        "id": "8bY4H9DszQ2S",
        "colab_type": "text"
      },
      "source": [
        "In this part, you will work with the library ```matplotlib```. Import the ```pyplot``` from ```matplotlib``` with an alias name ```plt```."
      ]
    },
    {
      "cell_type": "code",
      "metadata": {
        "id": "hPN6qctRzknT",
        "colab_type": "code",
        "colab": {}
      },
      "source": [
        "# Initial imports\n",
        "import numpy as np\n",
        "import matplotlib.pyplot as plt"
      ],
      "execution_count": 0,
      "outputs": []
    },
    {
      "cell_type": "markdown",
      "metadata": {
        "id": "fQ6KX_Aezlub",
        "colab_type": "text"
      },
      "source": [
        "Plot the sine function with domain in $[-3\\pi,3\\pi]$. Label the axes appropriately. Add title $\\sin(x)$. Use latex formatting while adding the title. Set the plot size to (10,10)"
      ]
    },
    {
      "cell_type": "code",
      "metadata": {
        "id": "0tA3J5mA1cQ0",
        "colab_type": "code",
        "outputId": "00678aa4-fa98-41e4-ca18-84aec27a5311",
        "colab": {
          "base_uri": "https://localhost:8080/",
          "height": 281
        }
      },
      "source": [
        "x= np.linspace(-3*np.pi,3*np.pi,300)\n",
        "y= np.divide(np.sin(x),x)\n",
        "plt.title(r'$\\alpha$')\n",
        "plt.plot(x,y)\n",
        "plt.show()"
      ],
      "execution_count": 0,
      "outputs": [
        {
          "output_type": "display_data",
          "data": {
            "image/png": "[encoded data removed]",
            "text/plain": [
              "<Figure size 432x288 with 1 Axes>"
            ]
          },
          "metadata": {
            "tags": [],
            "needs_background": "light"
          }
        }
      ]
    },
    {
      "cell_type": "markdown",
      "metadata": {
        "id": "6KV7RqMm1d8P",
        "colab_type": "text"
      },
      "source": [
        "Plot $\\sin(x)$ and its spectrum, $\\cos(x)$ and its spectrum in a single plot, in the domain $[-2\\pi,2\\pi]$. Label the plot appropriately."
      ]
    },
    {
      "cell_type": "code",
      "metadata": {
        "id": "-OJuY0HO12Oo",
        "colab_type": "code",
        "colab": {
          "base_uri": "https://localhost:8080/",
          "height": 281
        },
        "outputId": "554c8e31-9bc9-41aa-c4eb-08f524b8a4aa"
      },
      "source": [
        "#!pip install django\n",
        "x= np.linspace(-2*np.pi,2*np.pi,200)\n",
        "y= np.divide(np.sin(x),x)\n",
        "y_1=np.divide(np.cos(x),x)\n",
        "fig = plt.figure()\n",
        "plt.subplot(1,2,1)\n",
        "plt.plot(x,y)\n",
        "plt.subplot(1,2,2)\n",
        "plt.plot(x,y_1)\n",
        "ax1 = fig.add_subplot(121)\n",
        "ax2 = fig.add_subplot(122)\n",
        "ax1.title.set_text('Sin(x)')\n",
        "ax2.title.set_text('Cos(x)')\n",
        "plt.show()\n",
        "\n"
      ],
      "execution_count": 285,
      "outputs": [
        {
          "output_type": "display_data",
          "data": {
            "image/png": "[encoded data removed]",
            "text/plain": [
              "<Figure size 432x288 with 2 Axes>"
            ]
          },
          "metadata": {
            "tags": [],
            "needs_background": "light"
          }
        }
      ]
    },
    {
      "cell_type": "code",
      "metadata": {
        "id": "3eexf9tO4XK3",
        "colab_type": "code",
        "outputId": "b5fe10f8-0e0f-4e0a-b3a1-964c83126bca",
        "colab": {
          "base_uri": "https://localhost:8080/",
          "height": 265
        }
      },
      "source": [
        "# Loading the libraries \n",
        "import pandas as pd\n",
        "import numpy as np\n",
        "import seaborn as sns\n",
        "import scipy.stats as stats\n",
        "from matplotlib import pyplot as plt\n",
        "from math import pi\n",
        "# Refer to the official documentation of packages \n",
        "x = np.arange(-2*pi, 2*pi, 0.1)\n",
        "y = np.sin(x)\n",
        "plt.plot(x, y, 'o') # we can also try go/bo/ro/r- etc for changing the representation of the points (marker)\n",
        "plt.plot(x,np.cos(x))\n",
        "plt.legend(['sin', 'cos'])\n",
        "plt.show()\n"
      ],
      "execution_count": 287,
      "outputs": [
        {
          "output_type": "display_data",
          "data": {
            "image/png": "[encoded data removed]",
            "text/plain": [
              "<Figure size 432x288 with 1 Axes>"
            ]
          },
          "metadata": {
            "tags": [],
            "needs_background": "light"
          }
        }
      ]
    }
  ]
}
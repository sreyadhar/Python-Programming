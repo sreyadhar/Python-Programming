{
  "nbformat": 4,
  "nbformat_minor": 0,
  "metadata": {
    "colab": {
      "name": "SVM_linear_kernelized_Assignment.ipynb",
      "provenance": [],
      "collapsed_sections": []
    },
    "kernelspec": {
      "name": "python3",
      "display_name": "Python 3"
    }
  },
  "cells": [
    {
      "cell_type": "markdown",
      "metadata": {
        "id": "arLDVfoh4rOg",
        "colab_type": "text"
      },
      "source": [
        "#**SVM**"
      ]
    },
    {
      "cell_type": "code",
      "metadata": {
        "id": "MEEp0sf04pIP",
        "colab_type": "code",
        "colab": {}
      },
      "source": [
        "# Importing some packages\n",
        "import random\n",
        "import numpy as np\n",
        "import pandas as pd\n",
        "import matplotlib.pyplot as plt\n",
        "import matplotlib.ticker as ticker\n",
        "from scipy import stats\n",
        "import seaborn as sns\n",
        "from sklearn.model_selection import train_test_split\n",
        "from sklearn import metrics\n",
        "from sklearn import svm\n",
        "from sklearn.svm import SVC\n",
        "from numpy import linalg as LA"
      ],
      "execution_count": 0,
      "outputs": []
    },
    {
      "cell_type": "markdown",
      "metadata": {
        "id": "vJ2o5DL4478w",
        "colab_type": "text"
      },
      "source": [
        "\n",
        "\n",
        "---\n",
        "\n",
        "\n",
        "**Generating Random linearly separable data**\n",
        "\n",
        "\n",
        "---\n",
        "\n"
      ]
    },
    {
      "cell_type": "code",
      "metadata": {
        "id": "UbaJAhdL5BLA",
        "colab_type": "code",
        "colab": {}
      },
      "source": [
        "data = [[np.random.rand(), np.random.rand()] for i in range(10)]\n",
        "\n",
        "for i, point in enumerate(data):\n",
        "  x, y = point\n",
        "  if 0.5*x - y + 0.25 > 0:\n",
        "    data[i].append(-1)\n",
        "  else:\n",
        "    data[i].append(1)\n"
      ],
      "execution_count": 0,
      "outputs": []
    },
    {
      "cell_type": "markdown",
      "metadata": {
        "id": "S3afrVhJ5FSS",
        "colab_type": "text"
      },
      "source": [
        "\n",
        "\n",
        "---\n",
        "\n",
        "\n",
        "**Visualizing the above data**\n",
        "\n",
        "\n",
        "---\n",
        "\n"
      ]
    },
    {
      "cell_type": "code",
      "metadata": {
        "id": "6x0FkJik5LPi",
        "colab_type": "code",
        "outputId": "072facbe-7d16-4d6a-951c-5bd19217c643",
        "colab": {
          "base_uri": "https://localhost:8080/",
          "height": 269
        }
      },
      "source": [
        "for x, y, l in data:\n",
        "  if l == 1: \n",
        "    clr = 'red'\n",
        "  else: \n",
        "    clr = 'blue'\n",
        "  plt.scatter(x, y, c=clr)\n",
        "  plt.xlim(0,1)\n",
        "  plt.ylim(0,1)"
      ],
      "execution_count": 25,
      "outputs": [
        {
          "output_type": "display_data",
          "data": {
            "image/png": "[encoded data removed]",
            "text/plain": [
              "<Figure size 432x288 with 1 Axes>"
            ]
          },
          "metadata": {
            "tags": [],
            "needs_background": "light"
          }
        }
      ]
    },
    {
      "cell_type": "markdown",
      "metadata": {
        "id": "yXabL9FB5Qe1",
        "colab_type": "text"
      },
      "source": [
        "\n",
        "\n",
        "---\n",
        "\n",
        "\n",
        "**Train a SVM classifier using gradient descent and return a Weight Matrix which is a numpy array of length (N + 1) where N is dimension of training samples. You can refer to Fig. 1 in [this](https://www.cs.huji.ac.il/~shais/papers/ShalevSiSrCo10.pdf) paper for implementation. You can add arguments to svm_function according to your implementation.**\n",
        "\n",
        "\n",
        "---\n",
        "\n"
      ]
    },
    {
      "cell_type": "code",
      "metadata": {
        "id": "LpSHX3lT5VDt",
        "colab_type": "code",
        "colab": {}
      },
      "source": [
        "def svm_function(x, y, epoch, l_rate):\n",
        "    ###################################\n",
        "    Ones=np.ones((len(x),1))\n",
        "    x=np.append(x,Ones,axis=1)\n",
        "    w = np.zeros(len(x[0]))\n",
        "    for e in range(0,epoch):\n",
        "      i = random.choice(range(0,len(x)))\n",
        "      result = y[i]*np.dot(x[i], w)\n",
        "      if result < 1:\n",
        "        w = (1-(1/(e+1))) * w + (y[i] * x[i])/(l_rate*(e+1))\n",
        "      else:\n",
        "        w = (1-(1/(e+1)))*w\n",
        "      normt = 1/((np.sqrt(l_rate))*LA.norm(w))\n",
        "      if normt<1:\n",
        "        w = w*normt;\n",
        "    ###################################\n",
        "    return w"
      ],
      "execution_count": 0,
      "outputs": []
    },
    {
      "cell_type": "markdown",
      "metadata": {
        "id": "-GMSHqOB5Y7n",
        "colab_type": "text"
      },
      "source": [
        "\n",
        "\n",
        "---\n",
        "\n",
        "\n",
        "**Run SVM Classifier**\n",
        "\n",
        "\n",
        "---\n",
        "\n"
      ]
    },
    {
      "cell_type": "code",
      "metadata": {
        "id": "MY2AcFkZ5d2a",
        "colab_type": "code",
        "outputId": "6c33afa3-d991-4bfc-d0d7-a7be73bd7768",
        "colab": {
          "base_uri": "https://localhost:8080/",
          "height": 34
        }
      },
      "source": [
        "data = np.asarray(data)\n",
        "X = data[:,:2]\n",
        "Y = data[:,2]\n",
        "w = svm_function(X, Y, 10000, 0.01)\n",
        "print(w)"
      ],
      "execution_count": 27,
      "outputs": [
        {
          "output_type": "stream",
          "text": [
            "[-2.91167845  3.85262582  0.10493388]\n"
          ],
          "name": "stdout"
        }
      ]
    },
    {
      "cell_type": "markdown",
      "metadata": {
        "id": "4t6lPISE5h4e",
        "colab_type": "text"
      },
      "source": [
        "# **Visualize the classifier**\n",
        "\n",
        "\n",
        "---\n",
        "\n",
        "Write a code to draw a lines corrosponding to 'w' vector you got as output from svm_function and for a line from which actual data was generated (0.5*x - y + 0.25). \n",
        "\n",
        "---\n",
        "\n"
      ]
    },
    {
      "cell_type": "code",
      "metadata": {
        "id": "wrCLTSVx5mBF",
        "colab_type": "code",
        "colab": {
          "base_uri": "https://localhost:8080/",
          "height": 282
        },
        "outputId": "3db3288f-2c9f-42c4-d869-716f73512d37"
      },
      "source": [
        "###################################\n",
        "a =-w[0]/w[1]\n",
        "b = -w[2]/w[1]\n",
        "xx = np.linspace(0, 1)\n",
        "yy =  a * xx + b\n",
        "\n",
        "a1 = 0.5\n",
        "b1=0.25\n",
        "yy1 =   a1 * xx + b1\n",
        "\n",
        "fig = plt.figure()\n",
        "ax = plt.subplot(111)\n",
        "for x, y, l in data:\n",
        "  if l == 1: \n",
        "    clr = 'red'\n",
        "  else: \n",
        "    clr = 'blue'\n",
        "  ax.scatter(x, y, c=clr)\n",
        "ax.plot(xx,yy,label='Optimized hyperplane')\n",
        "ax.plot(xx,yy1,label='Original hyperplane')\n",
        "ax.legend()\n",
        "###################################"
      ],
      "execution_count": 28,
      "outputs": [
        {
          "output_type": "execute_result",
          "data": {
            "text/plain": [
              "<matplotlib.legend.Legend at 0x7fcaab458668>"
            ]
          },
          "metadata": {
            "tags": []
          },
          "execution_count": 28
        },
        {
          "output_type": "display_data",
          "data": {
            "image/png": "[encoded data removed]",
            "text/plain": [
              "<Figure size 432x288 with 1 Axes>"
            ]
          },
          "metadata": {
            "tags": [],
            "needs_background": "light"
          }
        }
      ]
    },
    {
      "cell_type": "markdown",
      "metadata": {
        "id": "zSQ2B6IK7pRq",
        "colab_type": "text"
      },
      "source": [
        "#**Linearly Non-separable Data**"
      ]
    },
    {
      "cell_type": "code",
      "metadata": {
        "id": "kZ5Mt_3Z73WS",
        "colab_type": "code",
        "outputId": "97b4c21c-bdd9-418f-ed92-e2fe3a13b6f9",
        "colab": {
          "base_uri": "https://localhost:8080/",
          "height": 279
        }
      },
      "source": [
        "from sklearn.datasets import make_circles\n",
        "from matplotlib import pyplot\n",
        "from pandas import DataFrame\n",
        "\n",
        "# generate 2d classification dataset\n",
        "X, y = make_circles(n_samples=100, noise=0.05)\n",
        "# scatter plot, dots colored by class value\n",
        "df = DataFrame(dict(x=X[:,0], y=X[:,1], label=y))\n",
        "colors = {0:'red', 1:'blue'}\n",
        "fig, ax = pyplot.subplots()\n",
        "grouped = df.groupby('label')\n",
        "for key, group in grouped:\n",
        "    group.plot(ax=ax, kind='scatter', x='x', y='y', label=key, color=colors[key])\n",
        "pyplot.show()\n"
      ],
      "execution_count": 29,
      "outputs": [
        {
          "output_type": "display_data",
          "data": {
            "image/png": "[encoded data removed]",
            "text/plain": [
              "<Figure size 432x288 with 1 Axes>"
            ]
          },
          "metadata": {
            "tags": [],
            "needs_background": "light"
          }
        }
      ]
    },
    {
      "cell_type": "markdown",
      "metadata": {
        "id": "SDtuOIuy6xPL",
        "colab_type": "text"
      },
      "source": [
        "\n",
        "\n",
        "---\n",
        "\n",
        "\n",
        "**Train a SVM classifier on the linearly non-separable data by appropriate features crafted from input data For linearly non-separable data, you need to transform the data in a space where it can be linearly seprable.\n",
        "These features can be exponential, polynomial, trignometric or any other function of actual input features.\n",
        "For example, if your input data is (x1, x2) you can have hand-crafted features as (sin(x1), cos(x1), cos(x2), x1-x2).\n",
        "Here you need to think of which hand-crafted features can be best suited for data given to you.\n",
        "Write a function to convert input features to hand-crafted features. Use these features to train a SVM using svm_function.\n",
        "Note that, if you choose to have L hand-crafted features, SVM will return L+1 dimensional 'w'.**\n",
        "\n",
        "\n",
        "---\n",
        "\n"
      ]
    },
    {
      "cell_type": "code",
      "metadata": {
        "id": "UeMR6PE34aVR",
        "colab_type": "code",
        "colab": {}
      },
      "source": [
        "#define a function plot the decision boundaries\n",
        "def plot_predictions(clf, axes):\n",
        "    #create data in continous linear space\n",
        "    x0s = np.linspace(axes[0], axes[1], 100)\n",
        "    x1s = np.linspace(axes[2], axes[3], 100)\n",
        "    x0, x1 = np.meshgrid(x0s, x1s)\n",
        "    X = np.c_[x0.ravel(), x1.ravel()]\n",
        "    y_pred = clf.predict(X).reshape(x0.shape)\n",
        "    y_decision = clf.decision_function(X).reshape(x0.shape)\n",
        "    plt.contourf(x0, x1, y_pred, cmap=plt.cm.brg, alpha=0.2)\n",
        "    plt.contourf(x0, x1, y_decision, cmap=plt.cm.brg, alpha=0.1)"
      ],
      "execution_count": 0,
      "outputs": []
    },
    {
      "cell_type": "code",
      "metadata": {
        "id": "ulHxN0U_4yi2",
        "colab_type": "code",
        "colab": {}
      },
      "source": [
        "#define a function to plot the dataset\n",
        "def plot_dataset(X, y, axes):\n",
        "    plt.plot(X[:, 0][y==0], X[:, 1][y==0], \"bs\")\n",
        "    plt.plot(X[:, 0][y==1], X[:, 1][y==1], \"ms\")\n",
        "    plt.axis(axes)\n",
        "    plt.grid(True, which='both')\n",
        "    plt.xlabel(r\"$x_1$\", fontsize=20)\n",
        "    plt.ylabel(r\"$x_2$\", fontsize=20, rotation=0)"
      ],
      "execution_count": 0,
      "outputs": []
    },
    {
      "cell_type": "markdown",
      "metadata": {
        "id": "k9RC8lVS81F8",
        "colab_type": "text"
      },
      "source": [
        "\n",
        "\n",
        "---\n",
        "\n",
        "\n",
        "**Visualize the data points in the new feature space \"if possible\" to see whether they got separated or not.**\n",
        "\n",
        "\n",
        "---\n",
        "\n"
      ]
    },
    {
      "cell_type": "code",
      "metadata": {
        "id": "rZF4nHvz6-2I",
        "colab_type": "code",
        "outputId": "4ee0865e-d54c-487e-e873-50209c7f024c",
        "colab": {
          "base_uri": "https://localhost:8080/",
          "height": 347
        }
      },
      "source": [
        "model = SVC(kernel=\"rbf\",  C=1)\n",
        "model.fit(X,y)\n",
        "#plot the decision boundaries\n",
        "plt.figure(figsize=(5, 5))\n",
        "\n",
        "#plot the decision boundaries\n",
        "plot_predictions(model, [-1.0, 1.0, -1, 1.0])\n",
        "\n",
        "#plot the dataset\n",
        "plot_dataset(X, y, [-1.0, 1.0, -1, 1.0])\n",
        "plt.show()"
      ],
      "execution_count": 32,
      "outputs": [
        {
          "output_type": "display_data",
          "data": {
            "image/png": "[encoded data removed]",
            "text/plain": [
              "<Figure size 360x360 with 1 Axes>"
            ]
          },
          "metadata": {
            "tags": [],
            "needs_background": "light"
          }
        }
      ]
    }
  ]
}